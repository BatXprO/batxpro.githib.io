{
  "nbformat": 4,
  "nbformat_minor": 0,
  "metadata": {
    "colab": {
      "provenance": [],
      "include_colab_link": true
    },
    "kernelspec": {
      "name": "python3",
      "display_name": "Python 3"
    },
    "language_info": {
      "name": "python"
    }
  },
  "cells": [
    {
      "cell_type": "markdown",
      "metadata": {
        "id": "view-in-github",
        "colab_type": "text"
      },
      "source": [
        "<a href=\"https://colab.research.google.com/github/BatXprO/batxpro.githib.io/blob/main/link_based_website_scraper.ipynb\" target=\"_parent\"><img src=\"https://colab.research.google.com/assets/colab-badge.svg\" alt=\"Open In Colab\"/></a>"
      ]
    },
    {
      "cell_type": "code",
      "source": [
        "!pip install requests beautifulsoup4 pandas openpyxl"
      ],
      "metadata": {
        "colab": {
          "base_uri": "https://localhost:8080/"
        },
        "id": "OWb-PVM4NDPf",
        "outputId": "5f677a28-59cc-49b0-ae7c-7045f6ceb97c"
      },
      "execution_count": null,
      "outputs": [
        {
          "output_type": "stream",
          "name": "stdout",
          "text": [
            "Requirement already satisfied: requests in /usr/local/lib/python3.11/dist-packages (2.32.3)\n",
            "Requirement already satisfied: beautifulsoup4 in /usr/local/lib/python3.11/dist-packages (4.12.3)\n",
            "Requirement already satisfied: pandas in /usr/local/lib/python3.11/dist-packages (2.2.2)\n",
            "Requirement already satisfied: openpyxl in /usr/local/lib/python3.11/dist-packages (3.1.5)\n",
            "Requirement already satisfied: charset-normalizer<4,>=2 in /usr/local/lib/python3.11/dist-packages (from requests) (3.4.1)\n",
            "Requirement already satisfied: idna<4,>=2.5 in /usr/local/lib/python3.11/dist-packages (from requests) (3.10)\n",
            "Requirement already satisfied: urllib3<3,>=1.21.1 in /usr/local/lib/python3.11/dist-packages (from requests) (2.3.0)\n",
            "Requirement already satisfied: certifi>=2017.4.17 in /usr/local/lib/python3.11/dist-packages (from requests) (2024.12.14)\n",
            "Requirement already satisfied: soupsieve>1.2 in /usr/local/lib/python3.11/dist-packages (from beautifulsoup4) (2.6)\n",
            "Requirement already satisfied: numpy>=1.23.2 in /usr/local/lib/python3.11/dist-packages (from pandas) (1.26.4)\n",
            "Requirement already satisfied: python-dateutil>=2.8.2 in /usr/local/lib/python3.11/dist-packages (from pandas) (2.8.2)\n",
            "Requirement already satisfied: pytz>=2020.1 in /usr/local/lib/python3.11/dist-packages (from pandas) (2024.2)\n",
            "Requirement already satisfied: tzdata>=2022.7 in /usr/local/lib/python3.11/dist-packages (from pandas) (2025.1)\n",
            "Requirement already satisfied: et-xmlfile in /usr/local/lib/python3.11/dist-packages (from openpyxl) (2.0.0)\n",
            "Requirement already satisfied: six>=1.5 in /usr/local/lib/python3.11/dist-packages (from python-dateutil>=2.8.2->pandas) (1.17.0)\n"
          ]
        }
      ]
    },
    {
      "cell_type": "code",
      "source": [
        "import requests\n",
        "from bs4 import BeautifulSoup\n",
        "import pandas as pd"
      ],
      "metadata": {
        "id": "EiTTRiFcNGZ-"
      },
      "execution_count": null,
      "outputs": []
    },
    {
      "cell_type": "code",
      "source": [
        "shopify_stores = [\n",
        "\"https://nete-shop.myshopify.com\", \"https://house-of-masaba.myshopify.com\", \"https://odetstyle.myshopify.com\", \"https://malie-official.myshopify.com\", \"https://cottonworld-2.myshopify.com\", \"https://levis-india-store.myshopify.com\", \"https://citrus-wears.myshopify.com\", \"https://ekadesignstudio-us.myshopify.com\", \"https://jilmil-co-in.myshopify.com\", \"https://styleunionindia.myshopify.com\", \"https://styleunionindia.myshopify.com\", \"https://indiejholaretails.myshopify.com\", \"https://iconic-india.myshopify.com\", \"https://labeldc-estore.myshopify.com\", \"https://byshreeindia.myshopify.com\", \"https://story-of-india.myshopify.com\", \"https://jisora-india.myshopify.com\", \"https://ekadesignstudio-us.myshopify.com\", \"https://cottonworld-2.myshopify.com\", \"https://levis-india-store.myshopify.com\", \"https://fabriclore-com.myshopify.com\", \"https://raghavendra-rathore-jodhpur.myshopify.com\", \"https://basanti-kapde-aur-koffee.myshopify.com\", \"https://jasthi-clothin.myshopify.com\", \"http://the-jodi-life.myshopify.com\", \"https://iconic-india.myshopify.com\", \"https://indianterrainwebstore.myshopify.com\", \"https://jisora-india.myshopify.com\", \"https://iconic-india.myshopify.com\", \"https://evora-women.myshopify.com\", \"https://cottonworld-2.myshopify.com\", \"https://byshreeindia.myshopify.com\", \"https://janasya-india.myshopify.com\", \"https://chi-linen-00.myshopify.com\", \"https://cottonworld-2.myshopify.com\", \"https://jisora-india.myshopify.com\", \"https://the-svaya.myshopify.com\", \"https://iconic-india.myshopify.com\", \"https://labeldc-estore.myshopify.com\", \"https://figclothing.myshopify.com\", \"https://cottonworld-2.myshopify.com\", \"https://pannkhd.myshopify.com\", \"https://cottonworld-2.myshopify.com\", \"http://the-jodi-life.myshopify.com\", \"https://the-darkroast.myshopify.com\", \"https://vishnustoreonline.myshopify.com\", \"https://tasva.myshopify.com\", \"https://meadows-uk.myshopify.com\", \"https://asmishop.myshopify.com\", \"https://grasshopper-goods.myshopify.com\", \"https://grasshopper-goods.myshopify.com\", \"https://cottonworld-2.myshopify.com\", \"https://cottonworld-2.myshopify.com\", \"https://cottonworld-2.myshopify.com\", \"https://cottonworld-2.myshopify.com\", \"https://cottonworld-2.myshopify.com\", \"https://house-of-designers2.myshopify.com\", \"https://jhonea-accessories.myshopify.com\", \"https://msr-market2.myshopify.com\", \"https://house-of-designers2.myshopify.com\", \"https://instorefashion.myshopify.com\", \"https://cottonworld-2.myshopify.com\", \"https://american-elm.myshopify.com\", \"https://uptownie101.myshopify.com\", \"https://miravalstore.myshopify.com\", \"https://levis-india-store.myshopify.com\", \"https://jaipuriadaah.myshopify.com\", \"https://janasya-india.myshopify.com\", \"https://cottonworld-2.myshopify.com\", \"https://house-of-kari.myshopify.com\",\"https://vimal-clothing-store.myshopify.com\", \"https://yash-170.myshopify.com\", \"https://cottonworld-2.myshopify.com\", \"https://darzi-clothing-company.myshopify.com\", \"https://oosc-clothing.myshopify.com\", \"https://decathlon-usa.myshopify.com\", \"https://threadnbutton.myshopify.com\", \"https://overlays-clothing.myshopify.com\", \"https://raas-the-global-desi.myshopify.com\", \"https://jasthi-clothin.myshopify.com\", \"https://derbymenonline.myshopify.com\", \"http://charcoal-online.myshopify.com\", \"https://tasva.myshopify.com\", \"https://o-n-s-clothing.myshopify.com\", \"https://shayeweb.myshopify.com\", \"http://members-only.myshopify.com\", \"https://named-clothing.myshopify.com\", \"https://empress-clothing-com.myshopify.com\", \"https://zumbaapparel.myshopify.com\", \"https://disturbia-uk.myshopify.com\", \"https://my-celebrity-closet.myshopify.com\", \"http://livefashionable.myshopify.com\", \"http://jolyn-clothing-company-usa.myshopify.com\", \"https://3below-com.myshopify.com\", \"https://representclo-eu.myshopify.com\", \"http://devnaagri.myshopify.com\", \"https://dermawear-testing.myshopify.com\", \"https://shopmulmul-usa.myshopify.com\", \"https://staud-clothing.myshopify.com\", \"https://angionline.myshopify.com\", \"https://onefriday-world.myshopify.com\", \"https://nete-shop.myshopify.com\", \"https://fablestreet-com.myshopify.com\", \"https://industrie-clothing.myshopify.com\", \"https://celsius123.myshopify.com\", \"https://tnuckadmin.myshopify.com\", \"https://nash-mens-store.myshopify.com\", \"https://jigsaw-uk.myshopify.com\", \"https://odetstyle.myshopify.com\", \"https://indianterrainwebstore.myshopify.com\", \"https://allyfashion-com.myshopify.com\", \"https://vochoshop.myshopify.com\", \"https://acai-activewear.myshopify.com\", \"https://xyzfuga.myshopify.com\", \"https://born-clothing-1.myshopify.com\", \"https://companyalpha.myshopify.com\", \"http://itokri.myshopify.com\", \"https://tps-clothing.myshopify.com\", \"https://xcvi.myshopify.com\", \"https://modcloth-prod.myshopify.com\"\n",
        "\n",
        "]"
      ],
      "metadata": {
        "id": "bG-VJIjXNJ3X"
      },
      "execution_count": null,
      "outputs": []
    },
    {
      "cell_type": "code",
      "source": [
        "!pip install phonenumbers"
      ],
      "metadata": {
        "colab": {
          "base_uri": "https://localhost:8080/"
        },
        "id": "Bt4BZFMSfnC5",
        "outputId": "2aaad3b9-e283-4e83-bdc4-2bf6ae2e369e"
      },
      "execution_count": null,
      "outputs": [
        {
          "output_type": "stream",
          "name": "stdout",
          "text": [
            "Collecting phonenumbers\n",
            "  Downloading phonenumbers-8.13.54-py2.py3-none-any.whl.metadata (11 kB)\n",
            "Downloading phonenumbers-8.13.54-py2.py3-none-any.whl (2.6 MB)\n",
            "\u001b[?25l   \u001b[90m━━━━━━━━━━━━━━━━━━━━━━━━━━━━━━━━━━━━━━━━\u001b[0m \u001b[32m0.0/2.6 MB\u001b[0m \u001b[31m?\u001b[0m eta \u001b[36m-:--:--\u001b[0m\r\u001b[2K   \u001b[91m━━\u001b[0m\u001b[90m╺\u001b[0m\u001b[90m━━━━━━━━━━━━━━━━━━━━━━━━━━━━━━━━━━━━━\u001b[0m \u001b[32m0.1/2.6 MB\u001b[0m \u001b[31m4.0 MB/s\u001b[0m eta \u001b[36m0:00:01\u001b[0m\r\u001b[2K   \u001b[91m━━━━━━━━━━━━━━\u001b[0m\u001b[90m╺\u001b[0m\u001b[90m━━━━━━━━━━━━━━━━━━━━━━━━━\u001b[0m \u001b[32m0.9/2.6 MB\u001b[0m \u001b[31m13.0 MB/s\u001b[0m eta \u001b[36m0:00:01\u001b[0m\r\u001b[2K   \u001b[91m━━━━━━━━━━━━━━━━━━━━━━━━━━━━━━━━━━━━━━━\u001b[0m\u001b[91m╸\u001b[0m \u001b[32m2.6/2.6 MB\u001b[0m \u001b[31m26.4 MB/s\u001b[0m eta \u001b[36m0:00:01\u001b[0m\r\u001b[2K   \u001b[90m━━━━━━━━━━━━━━━━━━━━━━━━━━━━━━━━━━━━━━━━\u001b[0m \u001b[32m2.6/2.6 MB\u001b[0m \u001b[31m21.3 MB/s\u001b[0m eta \u001b[36m0:00:00\u001b[0m\n",
            "\u001b[?25hInstalling collected packages: phonenumbers\n",
            "Successfully installed phonenumbers-8.13.54\n"
          ]
        }
      ]
    },
    {
      "cell_type": "code",
      "source": [
        "import requests\n",
        "from bs4 import BeautifulSoup\n",
        "import re\n",
        "import phonenumbers  # Install this library with: `pip install phonenumbers`\n",
        "\n",
        "# List to store extracted contact data\n",
        "merchants_data = []\n",
        "\n",
        "# Set to track unique entries\n",
        "unique_entries = set()\n",
        "\n",
        "# Function to standardize phone numbers\n",
        "def standardize_phone(phone):\n",
        "    try:\n",
        "        # Attempt to parse and format the phone number\n",
        "        parsed_number = phonenumbers.parse(phone, None)  # None allows parsing with or without country code\n",
        "        if phonenumbers.is_valid_number(parsed_number):\n",
        "            return phonenumbers.format_number(parsed_number, phonenumbers.PhoneNumberFormat.INTERNATIONAL)\n",
        "    except phonenumbers.NumberParseException:\n",
        "        return None  # Return None if parsing fails\n",
        "    return phone\n",
        "\n",
        "# Function to clean and extract company name\n",
        "def extract_company_name(title):\n",
        "    # Split by common delimiters and take the first part\n",
        "    name = re.split(r'[-|:]', title)[0].strip()\n",
        "    # Capitalize each word (optional, adjust based on preference)\n",
        "    name = \" \".join(word.capitalize() for word in name.split())\n",
        "    return name\n",
        "\n",
        "# Loop through each Shopify store URL\n",
        "for url in shopify_stores:\n",
        "    try:\n",
        "        response = requests.get(url)\n",
        "        soup = BeautifulSoup(response.text, 'html.parser')\n",
        "\n",
        "        # Extract and clean the store name from the <title> tag\n",
        "        title = soup.find('title').text.strip() if soup.find('title') else \"Nil\"\n",
        "        store_name = extract_company_name(title) if title != \"Nil\" else \"Nil\"\n",
        "\n",
        "        # Initialize contact info\n",
        "        phone_numbers = set()\n",
        "        emails = set()\n",
        "\n",
        "        # Search for phone numbers and emails in <a> tags and general text\n",
        "        for contact in soup.find_all(['a', 'p', 'span', 'div'], href=True):\n",
        "            href = contact.get('href', '')\n",
        "            text = contact.get_text()\n",
        "\n",
        "            # Check for phone numbers (in 'tel:' links or text)\n",
        "            if 'tel:' in href:\n",
        "                phone = href.replace('tel:', '').strip()\n",
        "                phone_numbers.add(phone)\n",
        "            elif re.search(r'\\+?\\d[\\d\\s().-]{7,}\\d', text):\n",
        "                phone_numbers.add(text.strip())\n",
        "\n",
        "            # Check for emails (in 'mailto:' links or text)\n",
        "            if 'mailto:' in href:\n",
        "                email = href.replace('mailto:', '').strip()\n",
        "                emails.add(email)\n",
        "            elif re.search(r'[a-zA-Z0-9._%+-]+@[a-zA-Z0-9.-]+\\.[a-zA-Z]{2,}', text):\n",
        "                emails.add(text.strip())\n",
        "\n",
        "        # Additional check in the full page text for loose contact info\n",
        "        page_text = soup.get_text()\n",
        "\n",
        "        # Find emails in page text\n",
        "        emails.update(re.findall(r'[a-zA-Z0-9._%+-]+@[a-zA-Z0-9.-]+\\.[a-zA-Z]{2,}', page_text))\n",
        "\n",
        "        # Find phone numbers in page text\n",
        "        phone_numbers.update(re.findall(r'\\+?\\d[\\d\\s().-]{7,}\\d', page_text))\n",
        "\n",
        "        # Standardize and clean up phone numbers\n",
        "        phone_numbers = {standardize_phone(phone) for phone in phone_numbers if standardize_phone(phone)}\n",
        "\n",
        "        # Convert sets to single strings or \"Nil\" if empty\n",
        "        phone_string = \", \".join(phone_numbers) if phone_numbers else \"Nil\"\n",
        "        email_string = \", \".join(emails) if emails else \"Nil\"\n",
        "\n",
        "        # Create a unique identifier for each entry\n",
        "        entry_id = (store_name, url, phone_string, email_string)\n",
        "\n",
        "        # Append data to merchants_data only if at least one contact is available and it's unique\n",
        "        if (phone_string != \"Nil\" or email_string != \"Nil\") and entry_id not in unique_entries:\n",
        "            unique_entries.add(entry_id)\n",
        "            merchants_data.append({\n",
        "                \"Company Name\": store_name,\n",
        "                \"Website\": url,\n",
        "                \"Phone Number\": phone_string,\n",
        "                \"Email\": email_string\n",
        "            })\n",
        "\n",
        "    except Exception as e:\n",
        "        print(f\"Error scraping {url}: {e}\")"
      ],
      "metadata": {
        "id": "VZvo7SK2NNkf"
      },
      "execution_count": null,
      "outputs": []
    },
    {
      "cell_type": "code",
      "source": [
        "# Convert list to DataFrame\n",
        "df = pd.DataFrame(merchants_data)\n",
        "\n",
        "# Save DataFrame to Excel file with proper spacing\n",
        "df.to_excel(\"Shopify_Clothing_Merchants.xlsx\", index=False)\n",
        "print(\"Data saved to Shopify_Clothing_Merchants.xlsx\")"
      ],
      "metadata": {
        "colab": {
          "base_uri": "https://localhost:8080/"
        },
        "id": "LNzR0CIoNSVG",
        "outputId": "e577eec9-d36f-4651-c3a4-bd7ffacdfaa6"
      },
      "execution_count": null,
      "outputs": [
        {
          "output_type": "stream",
          "name": "stdout",
          "text": [
            "Data saved to Shopify_Clothing_Merchants.xlsx\n"
          ]
        }
      ]
    },
    {
      "cell_type": "code",
      "source": [
        "import openpyxl\n",
        "\n",
        "# Convert list to DataFrame\n",
        "df = pd.DataFrame(merchants_data)\n",
        "\n",
        "# Save DataFrame to Excel file\n",
        "file_path = \"Shopify_Clothing_Merchants.xlsx\"\n",
        "df.to_excel(file_path, index=False)\n",
        "\n",
        "# Adjust column widths to fit content\n",
        "from openpyxl import load_workbook\n",
        "\n",
        "# Load the workbook and the active sheet\n",
        "wb = load_workbook(file_path)\n",
        "ws = wb.active\n",
        "\n",
        "# Set column widths based on the maximum length of each column's content\n",
        "for col in ws.columns:\n",
        "    max_length = 0\n",
        "    col_letter = col[0].column_letter  # Get the letter of the column\n",
        "\n",
        "    for cell in col:\n",
        "        try:\n",
        "            max_length = max(max_length, len(str(cell.value)))\n",
        "        except:\n",
        "            pass\n",
        "\n",
        "    adjusted_width = max_length + 2  # Add some extra space\n",
        "    ws.column_dimensions[col_letter].width = adjusted_width\n",
        "\n",
        "# Save the updated Excel file\n",
        "wb.save(file_path)\n",
        "print(\"Data saved with adjusted column widths to Shopify_Clothing_Merchants.xlsx\")\n"
      ],
      "metadata": {
        "colab": {
          "base_uri": "https://localhost:8080/"
        },
        "id": "7Bdia6B_OLaf",
        "outputId": "c656820a-70f0-4956-993b-dfaee3d39014"
      },
      "execution_count": null,
      "outputs": [
        {
          "output_type": "stream",
          "name": "stdout",
          "text": [
            "Data saved with adjusted column widths to Shopify_Clothing_Merchants.xlsx\n"
          ]
        }
      ]
    },
    {
      "cell_type": "code",
      "source": [
        "from google.colab import files\n",
        "files.download(\"Shopify_Clothing_Merchants.xlsx\")"
      ],
      "metadata": {
        "colab": {
          "base_uri": "https://localhost:8080/",
          "height": 17
        },
        "id": "Fs6VDXoNNWaV",
        "outputId": "29c166de-f676-41ee-9195-1e8f8c09d3c7"
      },
      "execution_count": null,
      "outputs": [
        {
          "output_type": "display_data",
          "data": {
            "text/plain": [
              "<IPython.core.display.Javascript object>"
            ],
            "application/javascript": [
              "\n",
              "    async function download(id, filename, size) {\n",
              "      if (!google.colab.kernel.accessAllowed) {\n",
              "        return;\n",
              "      }\n",
              "      const div = document.createElement('div');\n",
              "      const label = document.createElement('label');\n",
              "      label.textContent = `Downloading \"${filename}\": `;\n",
              "      div.appendChild(label);\n",
              "      const progress = document.createElement('progress');\n",
              "      progress.max = size;\n",
              "      div.appendChild(progress);\n",
              "      document.body.appendChild(div);\n",
              "\n",
              "      const buffers = [];\n",
              "      let downloaded = 0;\n",
              "\n",
              "      const channel = await google.colab.kernel.comms.open(id);\n",
              "      // Send a message to notify the kernel that we're ready.\n",
              "      channel.send({})\n",
              "\n",
              "      for await (const message of channel.messages) {\n",
              "        // Send a message to notify the kernel that we're ready.\n",
              "        channel.send({})\n",
              "        if (message.buffers) {\n",
              "          for (const buffer of message.buffers) {\n",
              "            buffers.push(buffer);\n",
              "            downloaded += buffer.byteLength;\n",
              "            progress.value = downloaded;\n",
              "          }\n",
              "        }\n",
              "      }\n",
              "      const blob = new Blob(buffers, {type: 'application/binary'});\n",
              "      const a = document.createElement('a');\n",
              "      a.href = window.URL.createObjectURL(blob);\n",
              "      a.download = filename;\n",
              "      div.appendChild(a);\n",
              "      a.click();\n",
              "      div.remove();\n",
              "    }\n",
              "  "
            ]
          },
          "metadata": {}
        },
        {
          "output_type": "display_data",
          "data": {
            "text/plain": [
              "<IPython.core.display.Javascript object>"
            ],
            "application/javascript": [
              "download(\"download_26b07331-46a9-4bdb-9a37-6a10590add91\", \"Shopify_Clothing_Merchants.xlsx\", 7875)"
            ]
          },
          "metadata": {}
        }
      ]
    }
  ]
}