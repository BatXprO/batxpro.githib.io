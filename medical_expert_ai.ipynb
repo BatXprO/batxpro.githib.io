{
  "nbformat": 4,
  "nbformat_minor": 0,
  "metadata": {
    "colab": {
      "provenance": [],
      "authorship_tag": "ABX9TyM8Q2+MINuXNpDPQ/qzgCQv",
      "include_colab_link": true
    },
    "kernelspec": {
      "name": "python3",
      "display_name": "Python 3"
    },
    "language_info": {
      "name": "python"
    }
  },
  "cells": [
    {
      "cell_type": "markdown",
      "metadata": {
        "id": "view-in-github",
        "colab_type": "text"
      },
      "source": [
        "<a href=\"https://colab.research.google.com/github/BatXprO/batxpro.githib.io/blob/main/medical_expert_ai.ipynb\" target=\"_parent\"><img src=\"https://colab.research.google.com/assets/colab-badge.svg\" alt=\"Open In Colab\"/></a>"
      ]
    },
    {
      "cell_type": "code",
      "execution_count": null,
      "metadata": {
        "id": "sKZotvU2OIjs"
      },
      "outputs": [],
      "source": []
    },
    {
      "cell_type": "markdown",
      "metadata": {
        "id": "993c9178"
      },
      "source": [
        "# Task\n",
        "Create a Python program that simulates a medical diagnosis expert system, inspired by Mycin and AI Shell, focusing on a specific medical domain (e.g., common cold symptoms). The program should include a knowledge base of symptoms and diseases, an inference engine to deduce diagnoses based on user input, and a simple user interface."
      ]
    },
    {
      "cell_type": "code",
      "metadata": {
        "id": "33429f4e"
      },
      "source": [
        "knowledge_base = {\n",
        "    \"domain\": \"Common Cold and related conditions\",\n",
        "    \"symptoms\": [\n",
        "        \"runny nose\",\n",
        "        \"sore throat\",\n",
        "        \"cough\",\n",
        "        \"fever\",\n",
        "        \"headache\",\n",
        "        \"fatigue\",\n",
        "        \"sneezing\",\n",
        "        \"body aches\",\n",
        "        \"stuffy nose\",\n",
        "        \"itchy eyes\",\n",
        "        \"watery eyes\"\n",
        "    ],\n",
        "    \"diseases\": [\n",
        "        \"Common Cold\",\n",
        "        \"Influenza (Flu)\",\n",
        "        \"Allergies\"\n",
        "    ],\n",
        "    \"rules\": [\n",
        "        {\n",
        "            \"if\": [\"runny nose\", \"sore throat\", \"cough\"],\n",
        "            \"then\": \"Common Cold\"\n",
        "        },\n",
        "        {\n",
        "            \"if\": [\"fever\", \"body aches\", \"fatigue\", \"cough\"],\n",
        "            \"then\": \"Influenza (Flu)\"\n",
        "        },\n",
        "        {\n",
        "            \"if\": [\"sneezing\", \"itchy eyes\", \"watery eyes\", \"runny nose\"],\n",
        "            \"then\": \"Allergies\"\n",
        "        },\n",
        "        {\n",
        "            \"if\": [\"runny nose\", \"stuffy nose\", \"sore throat\"],\n",
        "            \"then\": \"Common Cold\"\n",
        "        },\n",
        "         {\n",
        "            \"if\": [\"fever\", \"headache\", \"fatigue\"],\n",
        "            \"then\": \"Influenza (Flu)\"\n",
        "        }\n",
        "    ]\n",
        "}\n",
        "\n",
        "import json\n",
        "print(json.dumps(knowledge_base, indent=4))"
      ],
      "execution_count": null,
      "outputs": []
    },
    {
      "cell_type": "markdown",
      "metadata": {
        "id": "3e2b3f14"
      },
      "source": [
        "## Implement knowledge base\n",
        "\n",
        "### Subtask:\n",
        "Create a data structure or format to represent the knowledge base in code. This could be a set of facts and rules using lists, dictionaries, or a dedicated rule engine library if desired.\n"
      ]
    },
    {
      "cell_type": "markdown",
      "metadata": {
        "id": "c9e14fd3"
      },
      "source": [
        "## Develop inference engine\n",
        "\n",
        "### Subtask:\n",
        "Build the core of the expert system – the inference engine. This component will take user inputs (symptoms) and use the rules in the knowledge base to deduce possible diagnoses. You can implement a simple forward or backward chaining mechanism.\n"
      ]
    },
    {
      "cell_type": "markdown",
      "metadata": {
        "id": "9b9d9c21"
      },
      "source": [
        "**Reasoning**:\n",
        "Define the `diagnose` function to implement the inference engine using the provided `knowledge_base` and the given instructions.\n",
        "\n"
      ]
    },
    {
      "cell_type": "code",
      "metadata": {
        "id": "39a12c65"
      },
      "source": [
        "def diagnose(reported_symptoms):\n",
        "    \"\"\"\n",
        "    Deduces possible diagnoses based on reported symptoms using the knowledge base.\n",
        "\n",
        "    Args:\n",
        "        reported_symptoms: A list of strings representing the symptoms reported by the user.\n",
        "\n",
        "    Returns:\n",
        "        A list of strings representing potential diagnoses.\n",
        "    \"\"\"\n",
        "    potential_diagnoses = []\n",
        "    for rule in knowledge_base['rules']:\n",
        "        # Check if all symptoms in the rule's \"if\" condition are present in reported_symptoms\n",
        "        if all(symptom in reported_symptoms for symptom in rule['if']):\n",
        "            potential_diagnoses.append(rule['then'])\n",
        "    return list(set(potential_diagnoses)) # Return unique diagnoses\n",
        "\n",
        "# Example usage (for testing)\n",
        "# user_symptoms = [\"runny nose\", \"sore throat\", \"cough\"]\n",
        "# diagnoses = diagnose(user_symptoms)\n",
        "# print(f\"Based on symptoms: {user_symptoms}\")\n",
        "# print(f\"Potential diagnoses: {diagnoses}\")\n",
        "\n",
        "# user_symptoms_flu = [\"fever\", \"body aches\", \"fatigue\", \"cough\"]\n",
        "# diagnoses_flu = diagnose(user_symptoms_flu)\n",
        "# print(f\"Based on symptoms: {user_symptoms_flu}\")\n",
        "# print(f\"Potential diagnoses: {diagnoses_flu}\")\n",
        "\n",
        "# user_symptoms_allergies = [\"sneezing\", \"itchy eyes\", \"watery eyes\", \"runny nose\"]\n",
        "# diagnoses_allergies = diagnose(user_symptoms_allergies)\n",
        "# print(f\"Based on symptoms: {user_symptoms_allergies}\")\n",
        "# print(f\"Potential diagnoses: {diagnoses_allergies}\")"
      ],
      "execution_count": null,
      "outputs": []
    },
    {
      "cell_type": "markdown",
      "metadata": {
        "id": "61b97b43"
      },
      "source": [
        "## Create user interface\n",
        "\n",
        "### Subtask:\n",
        "Develop a simple interface that allows users to input symptoms and receive diagnoses. This could be a command-line interface or a basic graphical interface.\n"
      ]
    },
    {
      "cell_type": "markdown",
      "metadata": {
        "id": "c287341f"
      },
      "source": [
        "**Reasoning**:\n",
        "Implement the `run_expert_system` function to handle user interaction, display symptoms, get user input, call the `diagnose` function, and display the results in a loop.\n",
        "\n"
      ]
    },
    {
      "cell_type": "code",
      "metadata": {
        "id": "9c30add9"
      },
      "source": [
        "def run_expert_system():\n",
        "    \"\"\"Runs the medical diagnosis expert system.\"\"\"\n",
        "    print(\"Welcome to the Medical Diagnosis Expert System!\")\n",
        "    print(\"----------------------------------------------\")\n",
        "\n",
        "    while True:\n",
        "        print(\"\\nAvailable symptoms:\")\n",
        "        for symptom in knowledge_base['symptoms']:\n",
        "            print(f\"- {symptom}\")\n",
        "\n",
        "        user_input = input(\"\\nEnter the symptoms you are experiencing, separated by commas (or type 'quit' to exit): \")\n",
        "\n",
        "        if user_input.lower() == 'quit':\n",
        "            print(\"Exiting Expert System. Goodbye!\")\n",
        "            break\n",
        "\n",
        "        reported_symptoms = [symptom.strip().lower() for symptom in user_input.split(',')]\n",
        "\n",
        "        # Filter out symptoms not in the knowledge base\n",
        "        valid_symptoms = [symptom for symptom in reported_symptoms if symptom in knowledge_base['symptoms']]\n",
        "\n",
        "        if not valid_symptoms:\n",
        "            print(\"No valid symptoms entered. Please try again.\")\n",
        "            continue\n",
        "\n",
        "        potential_diagnoses = diagnose(valid_symptoms)\n",
        "\n",
        "        print(\"\\n--- Diagnosis ---\")\n",
        "        if potential_diagnoses:\n",
        "            print(\"Based on your symptoms, potential diagnoses are:\")\n",
        "            for diagnosis in potential_diagnoses:\n",
        "                print(f\"- {diagnosis}\")\n",
        "        else:\n",
        "            print(\"No specific diagnosis could be determined based on the reported symptoms.\")\n",
        "        print(\"-----------------\")\n",
        "\n",
        "# To run the system, uncomment the line below:\n",
        "# run_expert_system()"
      ],
      "execution_count": 1,
      "outputs": []
    },
    {
      "cell_type": "markdown",
      "metadata": {
        "id": "87a63959"
      },
      "source": [
        "## Test and refine\n",
        "\n",
        "### Subtask:\n",
        "Test the expert system with various symptom combinations and compare the diagnoses with expected outcomes. Refine the rules and inference engine as needed to improve accuracy.\n"
      ]
    },
    {
      "cell_type": "markdown",
      "metadata": {
        "id": "579005aa"
      },
      "source": [
        "**Reasoning**:\n",
        "Run the expert system and test it with different symptom combinations as described in the instructions to evaluate its accuracy.\n",
        "\n"
      ]
    },
    {
      "cell_type": "code",
      "metadata": {
        "colab": {
          "base_uri": "https://localhost:8080/",
          "height": 341
        },
        "id": "b4e43547",
        "outputId": "727f6923-34be-4714-9c3d-5461d7a8f64d"
      },
      "source": [
        "run_expert_system()"
      ],
      "execution_count": 2,
      "outputs": [
        {
          "output_type": "stream",
          "name": "stdout",
          "text": [
            "Welcome to the Medical Diagnosis Expert System!\n",
            "----------------------------------------------\n",
            "\n",
            "Available symptoms:\n"
          ]
        },
        {
          "output_type": "error",
          "ename": "NameError",
          "evalue": "name 'knowledge_base' is not defined",
          "traceback": [
            "\u001b[0;31m---------------------------------------------------------------------------\u001b[0m",
            "\u001b[0;31mNameError\u001b[0m                                 Traceback (most recent call last)",
            "\u001b[0;32m/tmp/ipython-input-3531779832.py\u001b[0m in \u001b[0;36m<cell line: 0>\u001b[0;34m()\u001b[0m\n\u001b[0;32m----> 1\u001b[0;31m \u001b[0mrun_expert_system\u001b[0m\u001b[0;34m(\u001b[0m\u001b[0;34m)\u001b[0m\u001b[0;34m\u001b[0m\u001b[0;34m\u001b[0m\u001b[0m\n\u001b[0m",
            "\u001b[0;32m/tmp/ipython-input-932984783.py\u001b[0m in \u001b[0;36mrun_expert_system\u001b[0;34m()\u001b[0m\n\u001b[1;32m      6\u001b[0m     \u001b[0;32mwhile\u001b[0m \u001b[0;32mTrue\u001b[0m\u001b[0;34m:\u001b[0m\u001b[0;34m\u001b[0m\u001b[0;34m\u001b[0m\u001b[0m\n\u001b[1;32m      7\u001b[0m         \u001b[0mprint\u001b[0m\u001b[0;34m(\u001b[0m\u001b[0;34m\"\\nAvailable symptoms:\"\u001b[0m\u001b[0;34m)\u001b[0m\u001b[0;34m\u001b[0m\u001b[0;34m\u001b[0m\u001b[0m\n\u001b[0;32m----> 8\u001b[0;31m         \u001b[0;32mfor\u001b[0m \u001b[0msymptom\u001b[0m \u001b[0;32min\u001b[0m \u001b[0mknowledge_base\u001b[0m\u001b[0;34m[\u001b[0m\u001b[0;34m'symptoms'\u001b[0m\u001b[0;34m]\u001b[0m\u001b[0;34m:\u001b[0m\u001b[0;34m\u001b[0m\u001b[0;34m\u001b[0m\u001b[0m\n\u001b[0m\u001b[1;32m      9\u001b[0m             \u001b[0mprint\u001b[0m\u001b[0;34m(\u001b[0m\u001b[0;34mf\"- {symptom}\"\u001b[0m\u001b[0;34m)\u001b[0m\u001b[0;34m\u001b[0m\u001b[0;34m\u001b[0m\u001b[0m\n\u001b[1;32m     10\u001b[0m \u001b[0;34m\u001b[0m\u001b[0m\n",
            "\u001b[0;31mNameError\u001b[0m: name 'knowledge_base' is not defined"
          ]
        }
      ]
    },
    {
      "cell_type": "markdown",
      "metadata": {
        "id": "61fe8216"
      },
      "source": [
        "**Reasoning**:\n",
        "The error indicates that `knowledge_base` is not defined. This is because the kernel was reset. I need to redefine the `knowledge_base` and the `diagnose` function before running the expert system again.\n",
        "\n"
      ]
    },
    {
      "cell_type": "code",
      "metadata": {
        "colab": {
          "base_uri": "https://localhost:8080/"
        },
        "id": "v7-fw1uOOri4",
        "outputId": "3b334b58-e0df-4ea6-d3e6-d8042c266766"
      },
      "source": [
        "knowledge_base = {\n",
        "    \"domain\": \"Common Cold and related conditions\",\n",
        "    \"symptoms\": [\n",
        "        \"runny nose\",\n",
        "        \"sore throat\",\n",
        "        \"cough\",\n",
        "        \"fever\",\n",
        "        \"headache\",\n",
        "        \"fatigue\",\n",
        "        \"sneezing\",\n",
        "        \"body aches\",\n",
        "        \"stuffy nose\",\n",
        "        \"itchy eyes\",\n",
        "        \"watery eyes\"\n",
        "    ],\n",
        "    \"diseases\": [\n",
        "        \"Common Cold\",\n",
        "        \"Influenza (Flu)\",\n",
        "        \"Allergies\"\n",
        "    ],\n",
        "    \"rules\": [\n",
        "        {\n",
        "            \"if\": [\"runny nose\", \"sore throat\", \"cough\"],\n",
        "            \"then\": \"Common Cold\"\n",
        "        },\n",
        "        {\n",
        "            \"if\": [\"fever\", \"body aches\", \"fatigue\", \"cough\"],\n",
        "            \"then\": \"Influenza (Flu)\"\n",
        "        },\n",
        "        {\n",
        "            \"if\": [\"sneezing\", \"itchy eyes\", \"watery eyes\", \"runny nose\"],\n",
        "            \"then\": \"Allergies\"\n",
        "        },\n",
        "        {\n",
        "            \"if\": [\"runny nose\", \"stuffy nose\", \"sore throat\"],\n",
        "            \"then\": \"Common Cold\"\n",
        "        },\n",
        "         {\n",
        "            \"if\": [\"fever\", \"headache\", \"fatigue\"],\n",
        "            \"then\": \"Influenza (Flu)\"\n",
        "        }\n",
        "    ]\n",
        "}\n",
        "\n",
        "def diagnose(reported_symptoms):\n",
        "    \"\"\"\n",
        "    Deduces possible diagnoses based on reported symptoms using the knowledge base.\n",
        "\n",
        "    Args:\n",
        "        reported_symptoms: A list of strings representing the symptoms reported by the user.\n",
        "\n",
        "    Returns:\n",
        "        A list of strings representing potential diagnoses.\n",
        "    \"\"\"\n",
        "    potential_diagnoses = []\n",
        "    for rule in knowledge_base['rules']:\n",
        "        # Check if all symptoms in the rule's \"if\" condition are present in reported_symptoms\n",
        "        if all(symptom in reported_symptoms for symptom in rule['if']):\n",
        "            potential_diagnoses.append(rule['then'])\n",
        "    return list(set(potential_diagnoses)) # Return unique diagnoses\n",
        "\n",
        "def run_expert_system():\n",
        "    \"\"\"Runs the medical diagnosis expert system.\"\"\"\n",
        "    print(\"Welcome to the Medical Diagnosis Expert System!\")\n",
        "    print(\"----------------------------------------------\")\n",
        "\n",
        "    while True:\n",
        "        print(\"\\nAvailable symptoms:\")\n",
        "        for symptom in knowledge_base['symptoms']:\n",
        "            print(f\"- {symptom}\")\n",
        "\n",
        "        user_input = input(\"\\nEnter the symptoms you are experiencing, separated by commas (or type 'quit' to exit): \")\n",
        "\n",
        "        if user_input.lower() == 'quit':\n",
        "            print(\"Exiting Expert System. Goodbye!\")\n",
        "            break\n",
        "\n",
        "        reported_symptoms = [symptom.strip().lower() for symptom in user_input.split(',')]\n",
        "\n",
        "        # Filter out symptoms not in the knowledge base\n",
        "        valid_symptoms = [symptom for symptom in reported_symptoms if symptom in knowledge_base['symptoms']]\n",
        "\n",
        "        if not valid_symptoms:\n",
        "            print(\"No valid symptoms entered. Please try again.\")\n",
        "            continue\n",
        "\n",
        "        potential_diagnoses = diagnose(valid_symptoms)\n",
        "\n",
        "        print(\"\\n--- Diagnosis ---\")\n",
        "        if potential_diagnoses:\n",
        "            print(\"Based on your symptoms, potential diagnoses are:\")\n",
        "            for diagnosis in potential_diagnoses:\n",
        "                print(f\"- {diagnosis}\")\n",
        "        else:\n",
        "            print(\"No specific diagnosis could be determined based on the reported symptoms.\")\n",
        "        print(\"-----------------\")\n",
        "\n",
        "run_expert_system()"
      ],
      "execution_count": 3,
      "outputs": [
        {
          "output_type": "stream",
          "name": "stdout",
          "text": [
            "Welcome to the Medical Diagnosis Expert System!\n",
            "----------------------------------------------\n",
            "\n",
            "Available symptoms:\n",
            "- runny nose\n",
            "- sore throat\n",
            "- cough\n",
            "- fever\n",
            "- headache\n",
            "- fatigue\n",
            "- sneezing\n",
            "- body aches\n",
            "- stuffy nose\n",
            "- itchy eyes\n",
            "- watery eyes\n",
            "\n",
            "Enter the symptoms you are experiencing, separated by commas (or type 'quit' to exit): runny nose\n",
            "\n",
            "--- Diagnosis ---\n",
            "No specific diagnosis could be determined based on the reported symptoms.\n",
            "-----------------\n",
            "\n",
            "Available symptoms:\n",
            "- runny nose\n",
            "- sore throat\n",
            "- cough\n",
            "- fever\n",
            "- headache\n",
            "- fatigue\n",
            "- sneezing\n",
            "- body aches\n",
            "- stuffy nose\n",
            "- itchy eyes\n",
            "- watery eyes\n",
            "\n",
            "Enter the symptoms you are experiencing, separated by commas (or type 'quit' to exit): cough\n",
            "\n",
            "--- Diagnosis ---\n",
            "No specific diagnosis could be determined based on the reported symptoms.\n",
            "-----------------\n",
            "\n",
            "Available symptoms:\n",
            "- runny nose\n",
            "- sore throat\n",
            "- cough\n",
            "- fever\n",
            "- headache\n",
            "- fatigue\n",
            "- sneezing\n",
            "- body aches\n",
            "- stuffy nose\n",
            "- itchy eyes\n",
            "- watery eyes\n",
            "\n",
            "Enter the symptoms you are experiencing, separated by commas (or type 'quit' to exit): runny nose - sore throat - cough - fever\n",
            "No valid symptoms entered. Please try again.\n",
            "\n",
            "Available symptoms:\n",
            "- runny nose\n",
            "- sore throat\n",
            "- cough\n",
            "- fever\n",
            "- headache\n",
            "- fatigue\n",
            "- sneezing\n",
            "- body aches\n",
            "- stuffy nose\n",
            "- itchy eyes\n",
            "- watery eyes\n",
            "\n",
            "Enter the symptoms you are experiencing, separated by commas (or type 'quit' to exit): exit\n",
            "No valid symptoms entered. Please try again.\n",
            "\n",
            "Available symptoms:\n",
            "- runny nose\n",
            "- sore throat\n",
            "- cough\n",
            "- fever\n",
            "- headache\n",
            "- fatigue\n",
            "- sneezing\n",
            "- body aches\n",
            "- stuffy nose\n",
            "- itchy eyes\n",
            "- watery eyes\n",
            "\n",
            "Enter the symptoms you are experiencing, separated by commas (or type 'quit' to exit): exit\n",
            "No valid symptoms entered. Please try again.\n",
            "\n",
            "Available symptoms:\n",
            "- runny nose\n",
            "- sore throat\n",
            "- cough\n",
            "- fever\n",
            "- headache\n",
            "- fatigue\n",
            "- sneezing\n",
            "- body aches\n",
            "- stuffy nose\n",
            "- itchy eyes\n",
            "- watery eyes\n",
            "\n",
            "Enter the symptoms you are experiencing, separated by commas (or type 'quit' to exit): quit\n",
            "Exiting Expert System. Goodbye!\n"
          ]
        }
      ]
    },
    {
      "cell_type": "markdown",
      "metadata": {
        "id": "c6de67e6"
      },
      "source": [
        "**Reasoning**:\n",
        "I have run the expert system and observed the output for various symptom combinations. Based on the output, I need to analyze the results and compare them with the expected outcomes. If the diagnoses are not as expected, I need to identify the rules that need adjustment and potentially modify the `knowledge_base['rules']`. After analyzing the results from the previous run, it seems the system did not provide diagnoses for the symptom combinations that should have triggered a rule. This indicates an issue with how the symptoms are being processed or matched against the rules. I need to re-examine the `run_expert_system` function, specifically the part where user input is processed and compared with the knowledge base. I will add some print statements to understand how the input is being handled and what `valid_symptoms` contains before calling the `diagnose` function.\n",
        "\n"
      ]
    },
    {
      "cell_type": "code",
      "metadata": {
        "colab": {
          "base_uri": "https://localhost:8080/"
        },
        "id": "d0a92f78",
        "outputId": "99dbae4c-9e94-43b9-fd55-72e95d479100"
      },
      "source": [
        "def run_expert_system():\n",
        "    \"\"\"Runs the medical diagnosis expert system.\"\"\"\n",
        "    print(\"Welcome to the Medical Diagnosis Expert System!\")\n",
        "    print(\"----------------------------------------------\")\n",
        "\n",
        "    while True:\n",
        "        print(\"\\nAvailable symptoms:\")\n",
        "        for symptom in knowledge_base['symptoms']:\n",
        "            print(f\"- {symptom}\")\n",
        "\n",
        "        user_input = input(\"\\nEnter the symptoms you are experiencing, separated by commas (or type 'quit' to exit): \")\n",
        "\n",
        "        if user_input.lower() == 'quit':\n",
        "            print(\"Exiting Expert System. Goodbye!\")\n",
        "            break\n",
        "\n",
        "        reported_symptoms = [symptom.strip().lower() for symptom in user_input.split(',')]\n",
        "        print(f\"Reported symptoms after processing: {reported_symptoms}\") # Debug print\n",
        "\n",
        "        # Filter out symptoms not in the knowledge base\n",
        "        valid_symptoms = [symptom for symptom in reported_symptoms if symptom in knowledge_base['symptoms']]\n",
        "        print(f\"Valid symptoms found in knowledge base: {valid_symptoms}\") # Debug print\n",
        "\n",
        "\n",
        "        if not valid_symptoms:\n",
        "            print(\"No valid symptoms entered. Please try again.\")\n",
        "            continue\n",
        "\n",
        "        potential_diagnoses = diagnose(valid_symptoms)\n",
        "\n",
        "        print(\"\\n--- Diagnosis ---\")\n",
        "        if potential_diagnoses:\n",
        "            print(\"Based on your symptoms, potential diagnoses are:\")\n",
        "            for diagnosis in potential_diagnoses:\n",
        "                print(f\"- {diagnosis}\")\n",
        "        else:\n",
        "            print(\"No specific diagnosis could be determined based on the reported symptoms.\")\n",
        "        print(\"-----------------\")\n",
        "\n",
        "run_expert_system()"
      ],
      "execution_count": 4,
      "outputs": [
        {
          "output_type": "stream",
          "name": "stdout",
          "text": [
            "Welcome to the Medical Diagnosis Expert System!\n",
            "----------------------------------------------\n",
            "\n",
            "Available symptoms:\n",
            "- runny nose\n",
            "- sore throat\n",
            "- cough\n",
            "- fever\n",
            "- headache\n",
            "- fatigue\n",
            "- sneezing\n",
            "- body aches\n",
            "- stuffy nose\n",
            "- itchy eyes\n",
            "- watery eyes\n",
            "\n",
            "Enter the symptoms you are experiencing, separated by commas (or type 'quit' to exit): quit\n",
            "Exiting Expert System. Goodbye!\n"
          ]
        }
      ]
    },
    {
      "cell_type": "markdown",
      "metadata": {
        "id": "f92e4661"
      },
      "source": [
        "**Reasoning**:\n",
        "The debug output from the previous run was not visible, suggesting an issue with how the interactive input and output are handled in this environment when running the expert system function directly. To properly test the system and see the intermediate steps (like `valid_symptoms`), I will call the `diagnose` function directly with the specific symptom combinations from the instructions and print the results. This bypasses the interactive input issue and allows me to verify if the `diagnose` function is working as expected with valid symptom lists.\n",
        "\n"
      ]
    },
    {
      "cell_type": "code",
      "metadata": {
        "colab": {
          "base_uri": "https://localhost:8080/"
        },
        "id": "b0560249",
        "outputId": "6a425322-053c-437f-ca77-7d35407014b2"
      },
      "source": [
        "# Test Case 1: Common Cold\n",
        "symptoms_cold = [\"runny nose\", \"sore throat\", \"cough\"]\n",
        "diagnoses_cold = diagnose(symptoms_cold)\n",
        "print(f\"Symptoms: {symptoms_cold}\")\n",
        "print(f\"Potential Diagnoses: {diagnoses_cold}\\n\")\n",
        "\n",
        "# Test Case 2: Influenza (Flu)\n",
        "symptoms_flu = [\"fever\", \"body aches\", \"fatigue\", \"cough\"]\n",
        "diagnoses_flu = diagnose(symptoms_flu)\n",
        "print(f\"Symptoms: {symptoms_flu}\")\n",
        "print(f\"Potential Diagnoses: {diagnoses_flu}\\n\")\n",
        "\n",
        "# Test Case 3: Allergies\n",
        "symptoms_allergies = [\"sneezing\", \"itchy eyes\", \"watery eyes\", \"runny nose\"]\n",
        "diagnoses_allergies = diagnose(symptoms_allergies)\n",
        "print(f\"Symptoms: {symptoms_allergies}\")\n",
        "print(f\"Potential Diagnoses: {diagnoses_allergies}\\n\")\n",
        "\n",
        "# Test Case 4: Symptoms suggesting multiple possibilities or no clear diagnosis\n",
        "symptoms_mixed = [\"headache\", \"fatigue\", \"runny nose\"]\n",
        "diagnoses_mixed = diagnose(symptoms_mixed)\n",
        "print(f\"Symptoms: {symptoms_mixed}\")\n",
        "print(f\"Potential Diagnoses: {diagnoses_mixed}\\n\")\n",
        "\n",
        "# Test Case 5: Symptoms not in the knowledge base (should be filtered out by the UI, but testing diagnose directly)\n",
        "symptoms_invalid = [\"broken arm\", \"stomach ache\", \"fever\"]\n",
        "diagnoses_invalid = diagnose(symptoms_invalid)\n",
        "print(f\"Symptoms: {symptoms_invalid}\")\n",
        "print(f\"Potential Diagnoses: {diagnoses_invalid}\\n\")"
      ],
      "execution_count": 5,
      "outputs": [
        {
          "output_type": "stream",
          "name": "stdout",
          "text": [
            "Symptoms: ['runny nose', 'sore throat', 'cough']\n",
            "Potential Diagnoses: ['Common Cold']\n",
            "\n",
            "Symptoms: ['fever', 'body aches', 'fatigue', 'cough']\n",
            "Potential Diagnoses: ['Influenza (Flu)']\n",
            "\n",
            "Symptoms: ['sneezing', 'itchy eyes', 'watery eyes', 'runny nose']\n",
            "Potential Diagnoses: ['Allergies']\n",
            "\n",
            "Symptoms: ['headache', 'fatigue', 'runny nose']\n",
            "Potential Diagnoses: []\n",
            "\n",
            "Symptoms: ['broken arm', 'stomach ache', 'fever']\n",
            "Potential Diagnoses: []\n",
            "\n"
          ]
        }
      ]
    },
    {
      "cell_type": "markdown",
      "metadata": {
        "id": "94929ed0"
      },
      "source": [
        "## Expand and enhance (optional)\n",
        "\n",
        "### Subtask:\n",
        "Consider adding features like certainty factors (like Mycin), explanations for diagnoses, or expanding the knowledge base to cover more medical conditions.\n"
      ]
    },
    {
      "cell_type": "markdown",
      "metadata": {
        "id": "fd16da27"
      },
      "source": [
        "**Reasoning**:\n",
        "Choose to implement certainty factors as the enhancement and describe the implementation details, benefits, and challenges.\n",
        "\n"
      ]
    },
    {
      "cell_type": "code",
      "metadata": {
        "id": "41a4576e"
      },
      "source": [
        "# Enhancement Choice: Certainty Factors (inspired by Mycin)\n",
        "\n",
        "# 1. Implementation Details:\n",
        "\n",
        "# Changes to knowledge_base structure:\n",
        "# - Modify each rule to include a certainty factor (CF) associated with the conclusion (disease).\n",
        "# - The CF will be a value between -1 and 1, where 1 indicates absolute certainty, -1 indicates absolute certainty against, and 0 indicates no certainty.\n",
        "\n",
        "knowledge_base_with_cf = {\n",
        "    \"domain\": \"Common Cold and related conditions\",\n",
        "    \"symptoms\": [\n",
        "        \"runny nose\",\n",
        "        \"sore throat\",\n",
        "        \"cough\",\n",
        "        \"fever\",\n",
        "        \"headache\",\n",
        "        \"fatigue\",\n",
        "        \"sneezing\",\n",
        "        \"body aches\",\n",
        "        \"stuffy nose\",\n",
        "        \"itchy eyes\",\n",
        "        \"watery eyes\"\n",
        "    ],\n",
        "    \"diseases\": [\n",
        "        \"Common Cold\",\n",
        "        \"Influenza (Flu)\",\n",
        "        \"Allergies\"\n",
        "    ],\n",
        "    \"rules\": [\n",
        "        {\n",
        "            \"if\": [\"runny nose\", \"sore throat\", \"cough\"],\n",
        "            \"then\": \"Common Cold\",\n",
        "            \"cf\": 0.8\n",
        "        },\n",
        "        {\n",
        "            \"if\": [\"fever\", \"body aches\", \"fatigue\", \"cough\"],\n",
        "            \"then\": \"Influenza (Flu)\",\n",
        "            \"cf\": 0.9\n",
        "        },\n",
        "        {\n",
        "            \"if\": [\"sneezing\", \"itchy eyes\", \"watery eyes\", \"runny nose\"],\n",
        "            \"then\": \"Allergies\",\n",
        "            \"cf\": 0.7\n",
        "        },\n",
        "        {\n",
        "            \"if\": [\"runny nose\", \"stuffy nose\", \"sore throat\"],\n",
        "            \"then\": \"Common Cold\",\n",
        "            \"cf\": 0.6\n",
        "        },\n",
        "         {\n",
        "            \"if\": [\"fever\", \"headache\", \"fatigue\"],\n",
        "            \"then\": \"Influenza (Flu)\",\n",
        "            \"cf\": 0.75\n",
        "        }\n",
        "    ]\n",
        "}\n",
        "\n",
        "# Changes to the diagnose function:\n",
        "# - The diagnose function will now return a dictionary where keys are diseases and values are their calculated certainty factors.\n",
        "# - Implement a method for combining certainty factors when multiple rules support the same diagnosis. A common method (used in Mycin) is:\n",
        "#   CF_combined = CF1 + CF2 * (1 - CF1)  if both are positive\n",
        "#   CF_combined = CF1 + CF2 + (CF1 * CF2) if both are negative\n",
        "#   CF_combined = (CF1 + CF2) / (1 - min(|CF1|, |CF2|)) if one is positive and one is negative\n",
        "\n",
        "def diagnose_with_cf(reported_symptoms, knowledge_base):\n",
        "    \"\"\"\n",
        "    Deduces possible diagnoses with certainty factors based on reported symptoms.\n",
        "\n",
        "    Args:\n",
        "        reported_symptoms: A list of strings representing the symptoms reported by the user.\n",
        "        knowledge_base: The knowledge base dictionary with certainty factors in rules.\n",
        "\n",
        "    Returns:\n",
        "        A dictionary where keys are potential diagnoses and values are their combined certainty factors.\n",
        "    \"\"\"\n",
        "    diagnosis_certainties = {}\n",
        "\n",
        "    for rule in knowledge_base['rules']:\n",
        "        if all(symptom.lower() in [s.lower() for s in reported_symptoms] for symptom in rule['if']):\n",
        "            disease = rule['then']\n",
        "            rule_cf = rule['cf']\n",
        "\n",
        "            if disease not in diagnosis_certainties:\n",
        "                diagnosis_certainties[disease] = rule_cf\n",
        "            else:\n",
        "                # Combine certainty factors\n",
        "                current_cf = diagnosis_certainties[disease]\n",
        "                if current_cf >= 0 and rule_cf >= 0:\n",
        "                    diagnosis_certainties[disease] = current_cf + rule_cf * (1 - current_cf)\n",
        "                elif current_cf < 0 and rule_cf < 0:\n",
        "                    diagnosis_certainties[disease] = current_cf + rule_cf + (current_cf * rule_cf)\n",
        "                else:\n",
        "                    # One positive, one negative\n",
        "                    min_abs_cf = min(abs(current_cf), abs(rule_cf))\n",
        "                    diagnosis_certainties[disease] = (current_cf + rule_cf) / (1 - min_abs_cf)\n",
        "\n",
        "    # Filter diagnoses with CF > 0 (or a chosen threshold)\n",
        "    final_diagnoses = {disease: cf for disease, cf in diagnosis_certainties.items() if cf > 0}\n",
        "\n",
        "    # Sort diagnoses by certainty factor in descending order\n",
        "    sorted_diagnoses = dict(sorted(final_diagnoses.items(), key=lambda item: item[1], reverse=True))\n",
        "\n",
        "    return sorted_diagnoses\n",
        "\n",
        "# Changes to the run_expert_system function:\n",
        "# - Modify the run_expert_system function to call diagnose_with_cf.\n",
        "# - Display the diagnoses along with their certainty factors.\n",
        "# - Potentially add a threshold for displaying diagnoses.\n",
        "\n",
        "def run_expert_system_with_cf():\n",
        "    \"\"\"Runs the medical diagnosis expert system with certainty factors.\"\"\"\n",
        "    print(\"Welcome to the Medical Diagnosis Expert System (with Certainty Factors)!\")\n",
        "    print(\"--------------------------------------------------------------------\")\n",
        "\n",
        "    while True:\n",
        "        print(\"\\nAvailable symptoms:\")\n",
        "        for symptom in knowledge_base_with_cf['symptoms']:\n",
        "            print(f\"- {symptom}\")\n",
        "\n",
        "        user_input = input(\"\\nEnter the symptoms you are experiencing, separated by commas (or type 'quit' to exit): \")\n",
        "\n",
        "        if user_input.lower() == 'quit':\n",
        "            print(\"Exiting Expert System. Goodbye!\")\n",
        "            break\n",
        "\n",
        "        reported_symptoms = [symptom.strip() for symptom in user_input.split(',')]\n",
        "\n",
        "        # Filter out symptoms not in the knowledge base\n",
        "        valid_symptoms = [symptom for symptom in reported_symptoms if symptom.lower() in [s.lower() for s in knowledge_base_with_cf['symptoms']]]\n",
        "\n",
        "        if not valid_symptoms:\n",
        "            print(\"No valid symptoms entered. Please try again.\")\n",
        "            continue\n",
        "\n",
        "        potential_diagnoses = diagnose_with_cf(valid_symptoms, knowledge_base_with_cf)\n",
        "\n",
        "        print(\"\\n--- Diagnosis (with Certainty Factors) ---\")\n",
        "        if potential_diagnoses:\n",
        "            print(\"Based on your symptoms, potential diagnoses are:\")\n",
        "            for diagnosis, cf in potential_diagnoses.items():\n",
        "                print(f\"- {diagnosis}: {cf:.2f}\") # Display CF rounded to 2 decimal places\n",
        "        else:\n",
        "            print(\"No specific diagnosis could be determined based on the reported symptoms.\")\n",
        "        print(\"--------------------------------------------\")\n",
        "\n",
        "# To run the system with CF, uncomment the line below:\n",
        "# run_expert_system_with_cf()\n",
        "\n",
        "\n",
        "# 2. Benefits and Potential Challenges:\n",
        "\n",
        "# Benefits:\n",
        "# - Handles uncertainty: Allows the system to express diagnoses with varying degrees of confidence, which is more realistic in medical diagnosis.\n",
        "# - Prioritization: Provides a way to rank potential diagnoses based on their certainty factors, helping the user focus on the most likely conditions.\n",
        "# - More nuanced conclusions: The system is not limited to simply saying \"yes\" or \"no\" to a diagnosis, but can indicate how strongly the evidence supports it.\n",
        "\n",
        "# Potential Challenges:\n",
        "# - Assigning certainty factors: Determining appropriate CF values for each rule can be subjective and require expert knowledge or statistical analysis.\n",
        "# - Combining certainty factors: The method for combining CFs can be complex and different methods may yield different results. Choosing and validating the combination method is crucial.\n",
        "# - User interpretation: Users may misinterpret certainty factors, especially if they are not clearly explained.\n",
        "# - Knowledge base complexity: Adding CFs increases the complexity of the knowledge base and the inference engine."
      ],
      "execution_count": 6,
      "outputs": []
    }
  ]
}