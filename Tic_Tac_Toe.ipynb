{
  "nbformat": 4,
  "nbformat_minor": 0,
  "metadata": {
    "colab": {
      "provenance": [],
      "authorship_tag": "ABX9TyNtCkvQrjW0QXIJACbPl0NT",
      "include_colab_link": true
    },
    "kernelspec": {
      "name": "python3",
      "display_name": "Python 3"
    },
    "language_info": {
      "name": "python"
    }
  },
  "cells": [
    {
      "cell_type": "markdown",
      "metadata": {
        "id": "view-in-github",
        "colab_type": "text"
      },
      "source": [
        "<a href=\"https://colab.research.google.com/github/BatXprO/batxpro.githib.io/blob/main/Tic_Tac_Toe.ipynb\" target=\"_parent\"><img src=\"https://colab.research.google.com/assets/colab-badge.svg\" alt=\"Open In Colab\"/></a>"
      ]
    },
    {
      "cell_type": "code",
      "execution_count": null,
      "metadata": {
        "id": "onIbh0OAI4Wn"
      },
      "outputs": [],
      "source": []
    },
    {
      "cell_type": "markdown",
      "metadata": {
        "id": "4b83b27e"
      },
      "source": [
        "# Task\n",
        "Create a simple Tic Tac Toe game."
      ]
    },
    {
      "cell_type": "markdown",
      "metadata": {
        "id": "99f62bab"
      },
      "source": [
        "## Representing the board\n",
        "\n",
        "### Subtask:\n",
        "Decide how to represent the Tic Tac Toe board in the code (e.g., a list or a 2D array).\n"
      ]
    },
    {
      "cell_type": "markdown",
      "metadata": {
        "id": "f44b0fdf"
      },
      "source": [
        "**Reasoning**:\n",
        "Initialize a 2D list to represent the Tic Tac Toe board with empty spaces.\n",
        "\n"
      ]
    },
    {
      "cell_type": "code",
      "metadata": {
        "id": "e0d919c1"
      },
      "source": [
        "board = [[' ' for _ in range(3)] for _ in range(3)]"
      ],
      "execution_count": 1,
      "outputs": []
    },
    {
      "cell_type": "markdown",
      "metadata": {
        "id": "a2775451"
      },
      "source": [
        "**Reasoning**:\n",
        "Display the initialized board to verify its structure.\n",
        "\n"
      ]
    },
    {
      "cell_type": "code",
      "metadata": {
        "colab": {
          "base_uri": "https://localhost:8080/",
          "height": 35
        },
        "id": "6c6ce57d",
        "outputId": "63cabb78-92cd-4199-dac9-cda1aee4ee49"
      },
      "source": [
        "display(board)"
      ],
      "execution_count": 2,
      "outputs": [
        {
          "output_type": "display_data",
          "data": {
            "text/plain": [
              "[[' ', ' ', ' '], [' ', ' ', ' '], [' ', ' ', ' ']]"
            ]
          },
          "metadata": {}
        }
      ]
    },
    {
      "cell_type": "markdown",
      "metadata": {
        "id": "3ec166ce"
      },
      "source": [
        "## Displaying the board\n",
        "\n",
        "### Subtask:\n",
        "Write a function to print the current state of the board.\n"
      ]
    },
    {
      "cell_type": "markdown",
      "metadata": {
        "id": "687dde42"
      },
      "source": [
        "**Reasoning**:\n",
        "Define a function to print the board, iterating through rows and cells to display the board state with separators.\n",
        "\n"
      ]
    },
    {
      "cell_type": "code",
      "metadata": {
        "id": "4a84c979"
      },
      "source": [
        "def print_board(board):\n",
        "    for row in board:\n",
        "        print(\" | \".join(row))\n",
        "        print(\"-\" * 9)"
      ],
      "execution_count": 3,
      "outputs": []
    },
    {
      "cell_type": "markdown",
      "metadata": {
        "id": "48a953ad"
      },
      "source": [
        "**Reasoning**:\n",
        "Test the `print_board` function with the initialized board.\n",
        "\n"
      ]
    },
    {
      "cell_type": "code",
      "metadata": {
        "colab": {
          "base_uri": "https://localhost:8080/"
        },
        "id": "e675f858",
        "outputId": "068e99b7-8f34-446e-a24e-a63833fa8875"
      },
      "source": [
        "print_board(board)"
      ],
      "execution_count": 4,
      "outputs": [
        {
          "output_type": "stream",
          "name": "stdout",
          "text": [
            "  |   |  \n",
            "---------\n",
            "  |   |  \n",
            "---------\n",
            "  |   |  \n",
            "---------\n"
          ]
        }
      ]
    },
    {
      "cell_type": "markdown",
      "metadata": {
        "id": "c9b9d4fe"
      },
      "source": [
        "## Player input\n",
        "\n",
        "### Subtask:\n",
        "Implement a way for players to input their moves (e.g., by entering row and column numbers).\n"
      ]
    },
    {
      "cell_type": "markdown",
      "metadata": {
        "id": "db0136a6"
      },
      "source": [
        "**Reasoning**:\n",
        "Define the `get_player_move` function to prompt the player for input and return it.\n",
        "\n"
      ]
    },
    {
      "cell_type": "code",
      "metadata": {
        "id": "8b5ca301"
      },
      "source": [
        "def get_player_move(player_mark):\n",
        "  \"\"\"Gets the player's move input.\"\"\"\n",
        "  move = input(f\"Player {player_mark}, enter your move (row, col): \")\n",
        "  return move"
      ],
      "execution_count": 5,
      "outputs": []
    },
    {
      "cell_type": "markdown",
      "metadata": {
        "id": "e905d6d0"
      },
      "source": [
        "## Checking for valid moves\n",
        "\n",
        "### Subtask:\n",
        "Validate player input to ensure moves are within the board boundaries and on empty squares.\n"
      ]
    },
    {
      "cell_type": "markdown",
      "metadata": {
        "id": "286272cb"
      },
      "source": [
        "**Reasoning**:\n",
        "Define the function to validate player input, incorporating error handling for parsing, boundary checks, and checking for empty squares as per the instructions.\n",
        "\n"
      ]
    },
    {
      "cell_type": "code",
      "metadata": {
        "id": "054c66dd"
      },
      "source": [
        "def validate_move(move_input, board, board_dimensions):\n",
        "    \"\"\"Validates the player's move input.\"\"\"\n",
        "    try:\n",
        "        row, col = map(int, move_input.split(','))\n",
        "    except ValueError:\n",
        "        return False, \"Invalid input format. Please enter row and column as numbers separated by a comma (e.g., 1,2).\"\n",
        "\n",
        "    if not (0 <= row < board_dimensions[0] and 0 <= col < board_dimensions[1]):\n",
        "        return False, f\"Move is out of bounds. Please enter row between 0 and {board_dimensions[0]-1} and column between 0 and {board_dimensions[1]-1}.\"\n",
        "\n",
        "    if board[row][col] != ' ':\n",
        "        return False, \"That square is already occupied. Please choose an empty square.\"\n",
        "\n",
        "    return True, (row, col)\n",
        "\n",
        "board_dimensions = (3, 3)\n",
        "# Example usage (assuming 'board' is already defined from previous steps):\n",
        "# move_input = get_player_move('X') # Assuming get_player_move is defined\n",
        "# is_valid, result = validate_move(move_input, board, board_dimensions)\n",
        "# if is_valid:\n",
        "#     print(f\"Valid move at: {result}\")\n",
        "# else:\n",
        "#     print(f\"Invalid move: {result}\")"
      ],
      "execution_count": 6,
      "outputs": []
    },
    {
      "cell_type": "markdown",
      "metadata": {
        "id": "4ef53aa3"
      },
      "source": [
        "## Making a move\n",
        "\n",
        "### Subtask:\n",
        "Update the board state based on valid player moves.\n"
      ]
    },
    {
      "cell_type": "markdown",
      "metadata": {
        "id": "bc1b5ded"
      },
      "source": [
        "**Reasoning**:\n",
        "Define the `make_move` function to update the board state with the player's mark at the specified valid move location.\n",
        "\n"
      ]
    },
    {
      "cell_type": "code",
      "metadata": {
        "id": "3a3045f0"
      },
      "source": [
        "def make_move(board, move, player_mark):\n",
        "    \"\"\"Updates the board state with the player's move.\"\"\"\n",
        "    row, col = move\n",
        "    board[row][col] = player_mark"
      ],
      "execution_count": 7,
      "outputs": []
    },
    {
      "cell_type": "markdown",
      "metadata": {
        "id": "2ae5fa5e"
      },
      "source": [
        "## Checking for win\n",
        "\n",
        "### Subtask:\n",
        "Implement a function to check if a player has won after each move.\n"
      ]
    },
    {
      "cell_type": "markdown",
      "metadata": {
        "id": "6c34142b"
      },
      "source": [
        "**Reasoning**:\n",
        "Define the `check_win` function to implement the winning condition checks for rows, columns, and diagonals.\n",
        "\n"
      ]
    },
    {
      "cell_type": "code",
      "metadata": {
        "id": "06fba2be"
      },
      "source": [
        "def check_win(board, player_mark):\n",
        "    \"\"\"Checks if the player has won.\"\"\"\n",
        "    n = len(board)\n",
        "\n",
        "    # Check rows\n",
        "    for row in board:\n",
        "        if all(cell == player_mark for cell in row):\n",
        "            return True\n",
        "\n",
        "    # Check columns\n",
        "    for col in range(n):\n",
        "        if all(board[row][col] == player_mark for row in range(n)):\n",
        "            return True\n",
        "\n",
        "    # Check main diagonal\n",
        "    if all(board[i][i] == player_mark for i in range(n)):\n",
        "        return True\n",
        "\n",
        "    # Check anti-diagonal\n",
        "    if all(board[i][n - 1 - i] == player_mark for i in range(n)):\n",
        "        return True\n",
        "\n",
        "    return False"
      ],
      "execution_count": 8,
      "outputs": []
    },
    {
      "cell_type": "markdown",
      "metadata": {
        "id": "0871d7c5"
      },
      "source": [
        "## Checking for draw\n",
        "\n",
        "### Subtask:\n",
        "Implement a function to check if the game is a draw.\n"
      ]
    },
    {
      "cell_type": "markdown",
      "metadata": {
        "id": "db0c9706"
      },
      "source": [
        "**Reasoning**:\n",
        "Define the `check_draw` function to determine if the board is full and the game is a draw.\n",
        "\n"
      ]
    },
    {
      "cell_type": "code",
      "metadata": {
        "id": "9dbda986"
      },
      "source": [
        "def check_draw(board):\n",
        "    \"\"\"Checks if the game is a draw.\"\"\"\n",
        "    for row in board:\n",
        "        if ' ' in row:\n",
        "            return False\n",
        "    return True"
      ],
      "execution_count": 9,
      "outputs": []
    },
    {
      "cell_type": "markdown",
      "metadata": {
        "id": "b78ffe33"
      },
      "source": [
        "## Game loop\n",
        "\n",
        "### Subtask:\n",
        "Create a loop to alternate turns between players, check for win or draw conditions, and end the game when necessary.\n"
      ]
    },
    {
      "cell_type": "markdown",
      "metadata": {
        "id": "9f6d1ada"
      },
      "source": [
        "**Reasoning**:\n",
        "Initialize game variables and start the game loop to alternate turns, check for win or draw, and end the game.\n",
        "\n"
      ]
    },
    {
      "cell_type": "code",
      "metadata": {
        "colab": {
          "base_uri": "https://localhost:8080/"
        },
        "id": "c8a68dea",
        "outputId": "f5b1d1a5-c4d2-46ae-99f3-b1817dee3458"
      },
      "source": [
        "current_player_mark = 'X'\n",
        "game_over = False\n",
        "\n",
        "while not game_over:\n",
        "    print_board(board)\n",
        "    move_input = get_player_move(current_player_mark)\n",
        "    is_valid, result = validate_move(move_input, board, board_dimensions)\n",
        "\n",
        "    if not is_valid:\n",
        "        print(result)\n",
        "        continue\n",
        "\n",
        "    row, col = result\n",
        "    make_move(board, (row, col), current_player_mark)\n",
        "\n",
        "    if check_win(board, current_player_mark):\n",
        "        print_board(board)\n",
        "        print(f\"Player {current_player_mark} wins!\")\n",
        "        game_over = True\n",
        "    elif check_draw(board):\n",
        "        print_board(board)\n",
        "        print(\"It's a draw!\")\n",
        "        game_over = True\n",
        "    else:\n",
        "        current_player_mark = 'O' if current_player_mark == 'X' else 'X'\n"
      ],
      "execution_count": 10,
      "outputs": [
        {
          "output_type": "stream",
          "name": "stdout",
          "text": [
            "  |   |  \n",
            "---------\n",
            "  |   |  \n",
            "---------\n",
            "  |   |  \n",
            "---------\n",
            "Player X, enter your move (row, col): 2,3\n",
            "Move is out of bounds. Please enter row between 0 and 2 and column between 0 and 2.\n",
            "  |   |  \n",
            "---------\n",
            "  |   |  \n",
            "---------\n",
            "  |   |  \n",
            "---------\n",
            "Player X, enter your move (row, col): 1,1\n",
            "  |   |  \n",
            "---------\n",
            "  | X |  \n",
            "---------\n",
            "  |   |  \n",
            "---------\n",
            "Player O, enter your move (row, col): 0,0\n",
            "O |   |  \n",
            "---------\n",
            "  | X |  \n",
            "---------\n",
            "  |   |  \n",
            "---------\n",
            "Player X, enter your move (row, col): 0,1\n",
            "O | X |  \n",
            "---------\n",
            "  | X |  \n",
            "---------\n",
            "  |   |  \n",
            "---------\n",
            "Player O, enter your move (row, col): 2,2\n",
            "O | X |  \n",
            "---------\n",
            "  | X |  \n",
            "---------\n",
            "  |   | O\n",
            "---------\n",
            "Player X, enter your move (row, col): 0,3\n",
            "Move is out of bounds. Please enter row between 0 and 2 and column between 0 and 2.\n",
            "O | X |  \n",
            "---------\n",
            "  | X |  \n",
            "---------\n",
            "  |   | O\n",
            "---------\n",
            "Player X, enter your move (row, col): 0,2\n",
            "O | X | X\n",
            "---------\n",
            "  | X |  \n",
            "---------\n",
            "  |   | O\n",
            "---------\n",
            "Player O, enter your move (row, col): 2,1\n",
            "O | X | X\n",
            "---------\n",
            "  | X |  \n",
            "---------\n",
            "  | O | O\n",
            "---------\n",
            "Player X, enter your move (row, col): 2,0\n",
            "O | X | X\n",
            "---------\n",
            "  | X |  \n",
            "---------\n",
            "X | O | O\n",
            "---------\n",
            "Player X wins!\n"
          ]
        }
      ]
    }
  ]
}