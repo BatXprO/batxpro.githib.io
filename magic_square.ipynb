{
  "nbformat": 4,
  "nbformat_minor": 0,
  "metadata": {
    "colab": {
      "provenance": [],
      "authorship_tag": "ABX9TyP1dbpxouR/8VRVDjMLrghP",
      "include_colab_link": true
    },
    "kernelspec": {
      "name": "python3",
      "display_name": "Python 3"
    },
    "language_info": {
      "name": "python"
    }
  },
  "cells": [
    {
      "cell_type": "markdown",
      "metadata": {
        "id": "view-in-github",
        "colab_type": "text"
      },
      "source": [
        "<a href=\"https://colab.research.google.com/github/BatXprO/batxpro.githib.io/blob/main/magic_square.ipynb\" target=\"_parent\"><img src=\"https://colab.research.google.com/assets/colab-badge.svg\" alt=\"Open In Colab\"/></a>"
      ]
    },
    {
      "cell_type": "code",
      "execution_count": null,
      "metadata": {
        "id": "ctIupc5cNo6b"
      },
      "outputs": [],
      "source": []
    },
    {
      "cell_type": "code",
      "metadata": {
        "colab": {
          "base_uri": "https://localhost:8080/"
        },
        "id": "28e5ed18",
        "outputId": "efb3cd97-052d-4ae4-fe7f-2756fd042cd2"
      },
      "source": [
        "# Test the function with n=3\n",
        "magic_square_3x3 = generate_magic_square(3)\n",
        "for row in magic_square_3x3:\n",
        "    print(row)\n",
        "\n",
        "# Test with n=5\n",
        "# magic_square_5x5 = generate_magic_square(5)\n",
        "# for row in magic_square_5x5:\n",
        "#     print(row)"
      ],
      "execution_count": 4,
      "outputs": [
        {
          "output_type": "stream",
          "name": "stdout",
          "text": [
            "[8, 1, 6]\n",
            "[3, 5, 7]\n",
            "[4, 9, 2]\n"
          ]
        }
      ]
    },
    {
      "cell_type": "code",
      "metadata": {
        "id": "fb81dc46"
      },
      "source": [
        "def generate_magic_square(n):\n",
        "    \"\"\"\n",
        "    Generates a magic square of size n using the Siamese method.\n",
        "\n",
        "    Args:\n",
        "        n: The size of the magic square (must be odd).\n",
        "\n",
        "    Returns:\n",
        "        A list of lists representing the magic square.\n",
        "    \"\"\"\n",
        "    if n % 2 == 0:\n",
        "        raise ValueError(\"Magic square size must be odd for the Siamese method.\")\n",
        "\n",
        "    magic_square = [[0 for _ in range(n)] for _ in range(n)]\n",
        "\n",
        "    # Starting position\n",
        "    row, col = 0, n // 2\n",
        "\n",
        "    # Fill the square\n",
        "    for num in range(1, n * n + 1):\n",
        "        magic_square[row][col] = num\n",
        "        next_row, next_col = (row - 1) % n, (col + 1) % n\n",
        "\n",
        "        if magic_square[next_row][next_col] != 0:\n",
        "            row = (row + 1) % n\n",
        "        else:\n",
        "            row, col = next_row, next_col\n",
        "\n",
        "    return magic_square"
      ],
      "execution_count": 3,
      "outputs": []
    },
    {
      "cell_type": "markdown",
      "metadata": {
        "id": "d0369216"
      },
      "source": [
        "# Task\n",
        "Write a Python program to generate a magic square of size `n`."
      ]
    },
    {
      "cell_type": "code",
      "metadata": {
        "id": "71cb1252"
      },
      "source": [
        "def is_magic_square(square):\n",
        "    \"\"\"\n",
        "    Verifies if a given square (represented as a list of lists) is a magic square.\n",
        "\n",
        "    Args:\n",
        "        square: A list of lists representing the square matrix.\n",
        "\n",
        "    Returns:\n",
        "        True if the square is a magic square, False otherwise.\n",
        "    \"\"\"\n",
        "    # The implementation to verify the magic square properties will be added later.\n",
        "    # For now, just return True as a placeholder to satisfy the function definition requirement.\n",
        "    return True"
      ],
      "execution_count": 5,
      "outputs": []
    },
    {
      "cell_type": "markdown",
      "metadata": {
        "id": "6627b45d"
      },
      "source": [
        "## Calculate the magic sum\n",
        "\n",
        "### Subtask:\n",
        "Calculate the expected magic sum for a square of this size (n*(n^2 + 1)/2).\n"
      ]
    },
    {
      "cell_type": "markdown",
      "metadata": {
        "id": "bcf410cc"
      },
      "source": [
        "**Reasoning**:\n",
        "Implement the logic within the `is_magic_square` function to calculate the expected magic sum based on the size of the input square.\n",
        "\n"
      ]
    },
    {
      "cell_type": "code",
      "metadata": {
        "id": "e2c0785c"
      },
      "source": [
        "def is_magic_square(square):\n",
        "    \"\"\"\n",
        "    Verifies if a given square (represented as a list of lists) is a magic square.\n",
        "\n",
        "    Args:\n",
        "        square: A list of lists representing the square matrix.\n",
        "\n",
        "    Returns:\n",
        "        True if the square is a magic square, False otherwise.\n",
        "    \"\"\"\n",
        "    n = len(square)\n",
        "    expected_sum = n * (n**2 + 1) // 2\n",
        "\n",
        "    # The implementation to verify the magic square properties will be added later.\n",
        "    # For now, just return True as a placeholder to satisfy the function definition requirement.\n",
        "    return True"
      ],
      "execution_count": 6,
      "outputs": []
    },
    {
      "cell_type": "markdown",
      "metadata": {
        "id": "7f8c113e"
      },
      "source": [
        "## Check rows\n",
        "\n",
        "### Subtask:\n",
        "Iterate through each row and check if the sum of its elements equals the magic sum.\n"
      ]
    },
    {
      "cell_type": "markdown",
      "metadata": {
        "id": "870ac361"
      },
      "source": [
        "**Reasoning**:\n",
        "Iterate through each row of the square, calculate the sum of elements in each row, and compare it with the expected magic sum. If any row sum doesn't match, return False.\n",
        "\n"
      ]
    },
    {
      "cell_type": "code",
      "metadata": {
        "id": "8072ebc8"
      },
      "source": [
        "def is_magic_square(square):\n",
        "    \"\"\"\n",
        "    Verifies if a given square (represented as a list of lists) is a magic square.\n",
        "\n",
        "    Args:\n",
        "        square: A list of lists representing the square matrix.\n",
        "\n",
        "    Returns:\n",
        "        True if the square is a magic square, False otherwise.\n",
        "    \"\"\"\n",
        "    n = len(square)\n",
        "    expected_sum = n * (n**2 + 1) // 2\n",
        "\n",
        "    # Check row sums\n",
        "    for row in square:\n",
        "        if sum(row) != expected_sum:\n",
        "            return False\n",
        "\n",
        "    # The implementation to verify column and diagonal sums will be added later.\n",
        "    return True"
      ],
      "execution_count": 7,
      "outputs": []
    },
    {
      "cell_type": "markdown",
      "metadata": {
        "id": "93e7a5d2"
      },
      "source": [
        "## Check columns\n",
        "\n",
        "### Subtask:\n",
        "Iterate through each column and check if the sum of its elements equals the magic sum.\n"
      ]
    },
    {
      "cell_type": "markdown",
      "metadata": {
        "id": "33b9dc04"
      },
      "source": [
        "**Reasoning**:\n",
        "Implement the column sum check within the `is_magic_square` function as instructed.\n",
        "\n"
      ]
    },
    {
      "cell_type": "code",
      "metadata": {
        "id": "63b7d56f"
      },
      "source": [
        "def is_magic_square(square):\n",
        "    \"\"\"\n",
        "    Verifies if a given square (represented as a list of lists) is a magic square.\n",
        "\n",
        "    Args:\n",
        "        square: A list of lists representing the square matrix.\n",
        "\n",
        "    Returns:\n",
        "        True if the square is a magic square, False otherwise.\n",
        "    \"\"\"\n",
        "    n = len(square)\n",
        "    expected_sum = n * (n**2 + 1) // 2\n",
        "\n",
        "    # Check row sums\n",
        "    for row in square:\n",
        "        if sum(row) != expected_sum:\n",
        "            return False\n",
        "\n",
        "    # Check column sums\n",
        "    for col in range(n):\n",
        "        col_sum = 0\n",
        "        for row in range(n):\n",
        "            col_sum += square[row][col]\n",
        "        if col_sum != expected_sum:\n",
        "            return False\n",
        "\n",
        "    # The implementation to verify diagonal sums will be added later.\n",
        "    return True"
      ],
      "execution_count": 8,
      "outputs": []
    },
    {
      "cell_type": "markdown",
      "metadata": {
        "id": "bf8ffd03"
      },
      "source": [
        "## Check main diagonals\n",
        "\n",
        "### Subtask:\n",
        "Check if the sum of the elements in both main diagonals equals the magic sum.\n"
      ]
    },
    {
      "cell_type": "markdown",
      "metadata": {
        "id": "c67dd1db"
      },
      "source": [
        "**Reasoning**:\n",
        "Implement the logic to check if the sum of elements in both main diagonals equals the expected magic sum and update the `is_magic_square` function.\n",
        "\n"
      ]
    },
    {
      "cell_type": "code",
      "metadata": {
        "colab": {
          "base_uri": "https://localhost:8080/"
        },
        "id": "fbe9b8dd",
        "outputId": "82538e21-0953-4d8a-e4e0-081842dbb2d1"
      },
      "source": [
        "def is_magic_square(square):\n",
        "    \"\"\"\n",
        "    Verifies if a given square (represented as a list of lists) is a magic square.\n",
        "\n",
        "    Args:\n",
        "        square: A list of lists representing the square matrix.\n",
        "\n",
        "    Returns:\n",
        "        True if the square is a magic square, False otherwise.\n",
        "    \"\"\"\n",
        "    n = len(square)\n",
        "    expected_sum = n * (n**2 + 1) // 2\n",
        "\n",
        "    # Check row sums\n",
        "    for row in square:\n",
        "        if sum(row) != expected_sum:\n",
        "            return False\n",
        "\n",
        "    # Check column sums\n",
        "    for col in range(n):\n",
        "        col_sum = 0\n",
        "        for row in range(n):\n",
        "            col_sum += square[row][col]\n",
        "        if col_sum != expected_sum:\n",
        "            return False\n",
        "\n",
        "    # Check main diagonal sum\n",
        "    main_diag_sum = 0\n",
        "    for i in range(n):\n",
        "        main_diag_sum += square[i][i]\n",
        "    if main_diag_sum != expected_sum:\n",
        "        return False\n",
        "\n",
        "    # Check anti-diagonal sum\n",
        "    anti_diag_sum = 0\n",
        "    for i in range(n):\n",
        "        anti_diag_sum += square[i][n - 1 - i]\n",
        "    if anti_diag_sum != expected_sum:\n",
        "        return False\n",
        "\n",
        "    return True\n",
        "\n",
        "# Test with a 3x3 magic square\n",
        "magic_square_3x3 = [\n",
        "    [8, 1, 6],\n",
        "    [3, 5, 7],\n",
        "    [4, 9, 2]\n",
        "]\n",
        "print(f\"Is the 3x3 square a magic square? {is_magic_square(magic_square_3x3)}\")\n",
        "\n",
        "# Test with a non-magic square\n",
        "non_magic_square = [\n",
        "    [1, 2, 3],\n",
        "    [4, 5, 6],\n",
        "    [7, 8, 9]\n",
        "]\n",
        "print(f\"Is the non-magic square a magic square? {is_magic_square(non_magic_square)}\")"
      ],
      "execution_count": 9,
      "outputs": [
        {
          "output_type": "stream",
          "name": "stdout",
          "text": [
            "Is the 3x3 square a magic square? True\n",
            "Is the non-magic square a magic square? False\n"
          ]
        }
      ]
    },
    {
      "cell_type": "markdown",
      "metadata": {
        "id": "c7b985a7"
      },
      "source": [
        "## Return the result\n",
        "\n",
        "### Subtask:\n",
        "Return `True` if all sums match the magic sum, and `False` otherwise.\n"
      ]
    },
    {
      "cell_type": "markdown",
      "metadata": {
        "id": "f3fee069"
      },
      "source": [
        "## Add test cases\n",
        "\n",
        "### Subtask:\n",
        "Add code cells to test the function with a known magic square and a non-magic square.\n"
      ]
    },
    {
      "cell_type": "markdown",
      "metadata": {
        "id": "7fd1948e"
      },
      "source": [
        "**Reasoning**:\n",
        "Define a known magic square and a non-magic square, then call the `is_magic_square` function with each and print the results with labels.\n",
        "\n"
      ]
    },
    {
      "cell_type": "code",
      "metadata": {
        "colab": {
          "base_uri": "https://localhost:8080/"
        },
        "id": "a70ea17a",
        "outputId": "f5c93c61-0277-47fb-d52f-657de6da02c6"
      },
      "source": [
        "# Define a list of lists representing a known magic square of size 3x3.\n",
        "known_magic_square = [\n",
        "    [8, 1, 6],\n",
        "    [3, 5, 7],\n",
        "    [4, 9, 2]\n",
        "]\n",
        "\n",
        "# Call the is_magic_square function with the known magic square and print the result.\n",
        "print(f\"Is the known magic square a magic square? {is_magic_square(known_magic_square)}\")\n",
        "\n",
        "# Define a list of lists representing a non-magic square of size 3x3.\n",
        "non_magic_square = [\n",
        "    [1, 2, 3],\n",
        "    [4, 5, 6],\n",
        "    [7, 8, 9]\n",
        "]\n",
        "\n",
        "# Call the is_magic_square function with the non-magic square and print the result.\n",
        "print(f\"Is the non-magic square a magic square? {is_magic_square(non_magic_square)}\")"
      ],
      "execution_count": 10,
      "outputs": [
        {
          "output_type": "stream",
          "name": "stdout",
          "text": [
            "Is the known magic square a magic square? True\n",
            "Is the non-magic square a magic square? False\n"
          ]
        }
      ]
    }
  ]
}