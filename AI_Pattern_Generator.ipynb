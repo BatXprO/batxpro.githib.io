{
  "nbformat": 4,
  "nbformat_minor": 0,
  "metadata": {
    "colab": {
      "provenance": [],
      "authorship_tag": "ABX9TyP4Ii8lFFu1S8iLRxZ7ubFk",
      "include_colab_link": true
    },
    "kernelspec": {
      "name": "python3",
      "display_name": "Python 3"
    },
    "language_info": {
      "name": "python"
    }
  },
  "cells": [
    {
      "cell_type": "markdown",
      "metadata": {
        "id": "view-in-github",
        "colab_type": "text"
      },
      "source": [
        "<a href=\"https://colab.research.google.com/github/BatXprO/batxpro.githib.io/blob/main/AI_Pattern_Generator.ipynb\" target=\"_parent\"><img src=\"https://colab.research.google.com/assets/colab-badge.svg\" alt=\"Open In Colab\"/></a>"
      ]
    },
    {
      "cell_type": "code",
      "execution_count": null,
      "metadata": {
        "id": "lfh-rZzCERk7"
      },
      "outputs": [],
      "source": []
    },
    {
      "cell_type": "markdown",
      "metadata": {
        "id": "f6c7bfeb"
      },
      "source": [
        "# Task\n",
        "Generate an ASCII art pattern."
      ]
    },
    {
      "cell_type": "markdown",
      "metadata": {
        "id": "5b3382e8"
      },
      "source": [
        "## Define the pattern\n",
        "\n",
        "### Subtask:\n",
        "Determine the desired ASCII art pattern (e.g., a simple shape, a complex design).\n"
      ]
    },
    {
      "cell_type": "markdown",
      "metadata": {
        "id": "5c099b27"
      },
      "source": [
        "## Generate the pattern\n",
        "\n",
        "### Subtask:\n",
        "Write code to generate the ASCII art pattern based on the definition.\n"
      ]
    },
    {
      "cell_type": "markdown",
      "metadata": {
        "id": "936275c1"
      },
      "source": [
        "**Reasoning**:\n",
        "Generate the ASCII art diamond pattern as a list of strings using loops and string manipulation.\n",
        "\n"
      ]
    },
    {
      "cell_type": "code",
      "metadata": {
        "colab": {
          "base_uri": "https://localhost:8080/"
        },
        "id": "6e432666",
        "outputId": "a172bbb8-2cc3-4fe7-c84c-04011f6b1839"
      },
      "source": [
        "def generate_star(size):\n",
        "    if size < 5 or size % 2 == 0:\n",
        "        print(\"Size must be an odd number greater than or equal to 5 for a recognizable star.\")\n",
        "        return []\n",
        "\n",
        "    star = []\n",
        "    # Upper part of the star\n",
        "    for i in range(size // 2 + 1):\n",
        "        leading_spaces = size // 2 - i\n",
        "        asterisks = 2 * i + 1\n",
        "        row = ' ' * leading_spaces + '*' * asterisks\n",
        "        star.append(row)\n",
        "\n",
        "    # Lower part of the star (inverted triangle)\n",
        "    for i in range(size // 2 - 1, -1, -1):\n",
        "        leading_spaces = size // 2 - i\n",
        "        asterisks = 2 * i + 1\n",
        "        row = ' ' * leading_spaces + '*' * asterisks\n",
        "        star.append(row)\n",
        "\n",
        "    return star\n",
        "\n",
        "# Example usage\n",
        "star_pattern = generate_star(7)\n",
        "for row in star_pattern:\n",
        "    print(row)"
      ],
      "execution_count": 3,
      "outputs": [
        {
          "output_type": "stream",
          "name": "stdout",
          "text": [
            "   *\n",
            "  ***\n",
            " *****\n",
            "*******\n",
            " *****\n",
            "  ***\n",
            "   *\n"
          ]
        }
      ]
    },
    {
      "cell_type": "markdown",
      "metadata": {
        "id": "628124d5"
      },
      "source": [
        "## Display the pattern\n",
        "\n",
        "### Subtask:\n",
        "Print the generated ASCII art pattern.\n"
      ]
    },
    {
      "cell_type": "markdown",
      "metadata": {
        "id": "f283a2db"
      },
      "source": [
        "**Reasoning**:\n",
        "Iterate through the `diamond_pattern` list and print each row to the console.\n",
        "\n"
      ]
    },
    {
      "cell_type": "code",
      "metadata": {
        "colab": {
          "base_uri": "https://localhost:8080/"
        },
        "id": "7042bba9",
        "outputId": "87424f0d-6692-4225-9faa-52f22c49bec9"
      },
      "source": [
        "for row in diamond_pattern:\n",
        "    print(row)"
      ],
      "execution_count": 2,
      "outputs": [
        {
          "output_type": "stream",
          "name": "stdout",
          "text": [
            "  *\n",
            " ***\n",
            "*****\n",
            " ***\n",
            "  *\n"
          ]
        }
      ]
    },
    {
      "cell_type": "code",
      "source": [],
      "metadata": {
        "id": "jB0OnOn8E3oZ"
      },
      "execution_count": null,
      "outputs": []
    },
    {
      "cell_type": "markdown",
      "metadata": {
        "id": "9ca6300f"
      },
      "source": [
        "# Task\n",
        "Generate a different ASCII art pattern."
      ]
    },
    {
      "cell_type": "markdown",
      "metadata": {
        "id": "5ee1a95d"
      },
      "source": [
        "## Generate the pattern\n",
        "\n",
        "### Subtask:\n",
        "Write code to generate the ASCII art pattern based on the definition.\n"
      ]
    },
    {
      "cell_type": "markdown",
      "metadata": {
        "id": "ed916196"
      },
      "source": [
        "**Reasoning**:\n",
        "Define a function to generate a square pattern using a given size and character, then call it to create a 5x5 square with '@'.\n",
        "\n"
      ]
    },
    {
      "cell_type": "code",
      "metadata": {
        "id": "11b31292"
      },
      "source": [
        "def generate_square(size, char):\n",
        "    \"\"\"Generates an ASCII art square pattern.\n",
        "\n",
        "    Args:\n",
        "        size: The size of the square (number of rows and columns).\n",
        "        char: The character to use for the square.\n",
        "\n",
        "    Returns:\n",
        "        A list of strings representing the rows of the square pattern.\n",
        "    \"\"\"\n",
        "    square = []\n",
        "    for _ in range(size):\n",
        "        row = char * size\n",
        "        square.append(row)\n",
        "    return square\n",
        "\n",
        "# Call the function to generate a 5x5 square with '@'\n",
        "square_pattern = generate_square(5, '@')"
      ],
      "execution_count": 4,
      "outputs": []
    },
    {
      "cell_type": "markdown",
      "metadata": {
        "id": "297a70b0"
      },
      "source": [
        "## Display the pattern\n",
        "\n",
        "### Subtask:\n",
        "Print the generated ASCII art pattern.\n"
      ]
    },
    {
      "cell_type": "markdown",
      "metadata": {
        "id": "bc6e7144"
      },
      "source": [
        "**Reasoning**:\n",
        "Iterate through the square_pattern list and print each row to the console.\n",
        "\n"
      ]
    },
    {
      "cell_type": "code",
      "metadata": {
        "colab": {
          "base_uri": "https://localhost:8080/"
        },
        "id": "c53e0aec",
        "outputId": "f48300ca-c03b-4b53-dc02-b241754e898d"
      },
      "source": [
        "for row in square_pattern:\n",
        "    print(row)"
      ],
      "execution_count": 5,
      "outputs": [
        {
          "output_type": "stream",
          "name": "stdout",
          "text": [
            "@@@@@\n",
            "@@@@@\n",
            "@@@@@\n",
            "@@@@@\n",
            "@@@@@\n"
          ]
        }
      ]
    }
  ]
}