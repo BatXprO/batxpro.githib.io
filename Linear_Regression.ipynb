{
  "nbformat": 4,
  "nbformat_minor": 0,
  "metadata": {
    "colab": {
      "provenance": [],
      "authorship_tag": "ABX9TyN3+9hareFZo7KVTVtPd7w0",
      "include_colab_link": true
    },
    "kernelspec": {
      "name": "python3",
      "display_name": "Python 3"
    },
    "language_info": {
      "name": "python"
    }
  },
  "cells": [
    {
      "cell_type": "markdown",
      "metadata": {
        "id": "view-in-github",
        "colab_type": "text"
      },
      "source": [
        "<a href=\"https://colab.research.google.com/github/BatXprO/batxpro.githib.io/blob/main/Linear_Regression.ipynb\" target=\"_parent\"><img src=\"https://colab.research.google.com/assets/colab-badge.svg\" alt=\"Open In Colab\"/></a>"
      ]
    },
    {
      "cell_type": "code",
      "execution_count": null,
      "metadata": {
        "id": "FUjhLJr3AqWb"
      },
      "outputs": [],
      "source": []
    },
    {
      "cell_type": "code",
      "metadata": {
        "id": "dd1a86e0"
      },
      "source": [
        "import numpy as np\n",
        "\n",
        "X = 10 * np.random.rand(100)\n",
        "noise = np.random.randn(100)\n",
        "y = 2 * X + 1 + noise"
      ],
      "execution_count": 1,
      "outputs": []
    },
    {
      "cell_type": "markdown",
      "metadata": {
        "id": "e3f234be"
      },
      "source": [
        "## Define the linear regression model\n",
        "\n",
        "### Subtask:\n",
        "Implement the linear regression model from scratch using NumPy.\n"
      ]
    },
    {
      "cell_type": "markdown",
      "metadata": {
        "id": "97997730"
      },
      "source": [
        "**Reasoning**:\n",
        "Implement the linear regression model from scratch using NumPy, including the forward pass, MSE loss, and gradients, as per the instructions.\n",
        "\n"
      ]
    },
    {
      "cell_type": "code",
      "metadata": {
        "colab": {
          "base_uri": "https://localhost:8080/"
        },
        "id": "d9983aea",
        "outputId": "f3f54acc-7c70-4a02-9bc7-fa0425c6c1f6"
      },
      "source": [
        "def linear_regression(X, y):\n",
        "    \"\"\"\n",
        "    Implements a linear regression model from scratch using NumPy.\n",
        "\n",
        "    Args:\n",
        "        X: Input features (NumPy array).\n",
        "        y: Target variable (NumPy array).\n",
        "\n",
        "    Returns:\n",
        "        A tuple containing:\n",
        "            - y_pred: Predicted values (NumPy array).\n",
        "            - mse_loss: Mean squared error loss (float).\n",
        "            - dw: Gradient of the loss with respect to the weight (float).\n",
        "            - db: Gradient of the loss with respect to the bias (float).\n",
        "    \"\"\"\n",
        "    # Initialize parameters\n",
        "    w = np.random.randn()\n",
        "    b = np.random.randn()\n",
        "\n",
        "    # Forward pass\n",
        "    y_pred = w * X + b\n",
        "\n",
        "    # MSE loss\n",
        "    n = len(y)\n",
        "    mse_loss = (1/n) * np.sum((y - y_pred)**2)\n",
        "\n",
        "    # Gradients\n",
        "    dw = (-2/n) * np.sum(X * (y - y_pred))\n",
        "    db = (-2/n) * np.sum(y - y_pred)\n",
        "\n",
        "    return y_pred, mse_loss, dw, db\n",
        "\n",
        "# Example usage with the generated data\n",
        "y_pred, mse_loss, dw, db = linear_regression(X, y)\n",
        "\n",
        "print(\"Predicted values (first 5):\", y_pred[:5])\n",
        "print(\"MSE Loss:\", mse_loss)\n",
        "print(\"Gradient of weight (dw):\", dw)\n",
        "print(\"Gradient of bias (db):\", db)"
      ],
      "execution_count": 2,
      "outputs": [
        {
          "output_type": "stream",
          "name": "stdout",
          "text": [
            "Predicted values (first 5): [ -7.00807415 -10.14541267 -18.47159277  -3.9144974   -0.63438553]\n",
            "MSE Loss: 571.4724211517406\n",
            "Gradient of weight (dw): -280.06295746045845\n",
            "Gradient of bias (db): -42.18383806753902\n"
          ]
        }
      ]
    },
    {
      "cell_type": "markdown",
      "metadata": {
        "id": "bfdca6dd"
      },
      "source": [
        "## Train the model\n",
        "\n",
        "### Subtask:\n",
        "Train the model using the generated data.\n"
      ]
    },
    {
      "cell_type": "markdown",
      "metadata": {
        "id": "87d9c025"
      },
      "source": [
        "**Reasoning**:\n",
        "Train the linear regression model using gradient descent.\n",
        "\n"
      ]
    },
    {
      "cell_type": "code",
      "metadata": {
        "colab": {
          "base_uri": "https://localhost:8080/"
        },
        "id": "254f6988",
        "outputId": "5ee687f2-46de-4a0f-c3f7-141375758918"
      },
      "source": [
        "learning_rate = 0.01\n",
        "epochs = 1000\n",
        "\n",
        "# Initialize weights and bias (if not already initialized, but we will re-initialize for clarity)\n",
        "w = np.random.randn()\n",
        "b = np.random.randn()\n",
        "\n",
        "loss_history = []\n",
        "\n",
        "for epoch in range(epochs):\n",
        "    # Forward pass\n",
        "    y_pred = w * X + b\n",
        "\n",
        "    # MSE loss\n",
        "    n = len(y)\n",
        "    mse_loss = (1/n) * np.sum((y - y_pred)**2)\n",
        "    loss_history.append(mse_loss)\n",
        "\n",
        "    # Gradients\n",
        "    dw = (-2/n) * np.sum(X * (y - y_pred))\n",
        "    db = (-2/n) * np.sum(y - y_pred)\n",
        "\n",
        "    # Update weights and bias\n",
        "    w -= learning_rate * dw\n",
        "    b -= learning_rate * db\n",
        "\n",
        "    # Optional: Print loss every certain number of epochs\n",
        "    if (epoch + 1) % 100 == 0:\n",
        "        print(f\"Epoch {epoch+1}/{epochs}, Loss: {mse_loss:.4f}\")\n",
        "\n",
        "print(f\"Training finished. Final Loss: {mse_loss:.4f}\")\n",
        "print(f\"Learned weight (w): {w:.4f}\")\n",
        "print(f\"Learned bias (b): {b:.4f}\")"
      ],
      "execution_count": 3,
      "outputs": [
        {
          "output_type": "stream",
          "name": "stdout",
          "text": [
            "Epoch 100/1000, Loss: 1.0811\n",
            "Epoch 200/1000, Loss: 1.0572\n",
            "Epoch 300/1000, Loss: 1.0477\n",
            "Epoch 400/1000, Loss: 1.0440\n",
            "Epoch 500/1000, Loss: 1.0425\n",
            "Epoch 600/1000, Loss: 1.0420\n",
            "Epoch 700/1000, Loss: 1.0417\n",
            "Epoch 800/1000, Loss: 1.0416\n",
            "Epoch 900/1000, Loss: 1.0416\n",
            "Epoch 1000/1000, Loss: 1.0416\n",
            "Training finished. Final Loss: 1.0416\n",
            "Learned weight (w): 1.9958\n",
            "Learned bias (b): 0.9312\n"
          ]
        }
      ]
    },
    {
      "cell_type": "markdown",
      "metadata": {
        "id": "d65383c3"
      },
      "source": [
        "## Visualize the results\n",
        "\n",
        "### Subtask:\n",
        "Visualize the generated data and the fitted line from the model.\n"
      ]
    },
    {
      "cell_type": "markdown",
      "metadata": {
        "id": "a6abf527"
      },
      "source": [
        "**Reasoning**:\n",
        "Visualize the generated data and the fitted line from the model using matplotlib.\n",
        "\n"
      ]
    },
    {
      "cell_type": "code",
      "metadata": {
        "colab": {
          "base_uri": "https://localhost:8080/",
          "height": 521
        },
        "id": "86d42de2",
        "outputId": "72d2ee67-1e56-40cc-b29e-e42449e1e3d8"
      },
      "source": [
        "import matplotlib.pyplot as plt\n",
        "\n",
        "# Create a scatter plot of the original data points\n",
        "plt.figure(figsize=(10, 6))\n",
        "plt.scatter(X, y, label='Original Data')\n",
        "\n",
        "# Plot the fitted line\n",
        "X_fit = np.linspace(X.min(), X.max(), 100)\n",
        "y_fit = w * X_fit + b\n",
        "plt.plot(X_fit, y_fit, color='red', label='Fitted Line')\n",
        "\n",
        "# Add labels and title\n",
        "plt.xlabel('X')\n",
        "plt.ylabel('y')\n",
        "plt.title('Linear Regression Fit')\n",
        "\n",
        "# Add legend\n",
        "plt.legend()\n",
        "\n",
        "# Display the plot\n",
        "plt.show()"
      ],
      "execution_count": 4,
      "outputs": [
        {
          "output_type": "display_data",
          "data": {
            "text/plain": [
              "<Figure size 1000x600 with 1 Axes>"
            ],
            "image/png": "[encoded data removed]"
          },
          "metadata": {}
        }
      ]
    }
  ]
}