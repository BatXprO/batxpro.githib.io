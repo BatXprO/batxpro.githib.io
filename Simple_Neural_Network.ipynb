{
  "nbformat": 4,
  "nbformat_minor": 0,
  "metadata": {
    "colab": {
      "provenance": [],
      "authorship_tag": "ABX9TyORaoBqcR6SmATv23mXxha4",
      "include_colab_link": true
    },
    "kernelspec": {
      "name": "python3",
      "display_name": "Python 3"
    },
    "language_info": {
      "name": "python"
    }
  },
  "cells": [
    {
      "cell_type": "markdown",
      "metadata": {
        "id": "view-in-github",
        "colab_type": "text"
      },
      "source": [
        "<a href=\"https://colab.research.google.com/github/BatXprO/batxpro.githib.io/blob/main/Simple_Neural_Network.ipynb\" target=\"_parent\"><img src=\"https://colab.research.google.com/assets/colab-badge.svg\" alt=\"Open In Colab\"/></a>"
      ]
    },
    {
      "cell_type": "code",
      "execution_count": null,
      "metadata": {
        "id": "mi-N1sT-BcKz"
      },
      "outputs": [],
      "source": []
    },
    {
      "cell_type": "markdown",
      "metadata": {
        "id": "30d194bc"
      },
      "source": [
        "# Task\n",
        "Create a simple neural network from scratch using Python."
      ]
    },
    {
      "cell_type": "code",
      "metadata": {
        "id": "5741932e"
      },
      "source": [
        "import numpy as np\n",
        "\n",
        "# Define the architecture based on the previous subtask\n",
        "n_input = 2\n",
        "n_hidden = 8  # Example number of hidden neurons\n",
        "n_output = 1\n",
        "\n",
        "# Initialize weights and biases\n",
        "weights_input_hidden = np.random.randn(n_input, n_hidden)\n",
        "biases_hidden = np.random.randn(1, n_hidden)\n",
        "weights_hidden_output = np.random.randn(n_hidden, n_output)\n",
        "biases_output = np.random.randn(1, n_output)\n",
        "\n",
        "print(\"Weights Input to Hidden:\")\n",
        "print(weights_input_hidden)\n",
        "print(\"\\nBiases Hidden:\")\n",
        "print(biases_hidden)\n",
        "print(\"\\nWeights Hidden to Output:\")\n",
        "print(weights_hidden_output)\n",
        "print(\"\\nBiases Output:\")\n",
        "print(biases_output)"
      ],
      "execution_count": null,
      "outputs": []
    },
    {
      "cell_type": "markdown",
      "metadata": {
        "id": "5dbce3e7"
      },
      "source": [
        "## Implement the forward propagation function\n",
        "\n",
        "### Subtask:\n",
        "Implement the forward propagation function.\n"
      ]
    },
    {
      "cell_type": "markdown",
      "metadata": {
        "id": "18bcf819"
      },
      "source": [
        "**Reasoning**:\n",
        "Implement the forward propagation function as described in the instructions, including the weighted sums and activation functions for both the hidden and output layers.\n",
        "\n"
      ]
    },
    {
      "cell_type": "code",
      "metadata": {
        "id": "eca0e9f4"
      },
      "source": [
        "def relu(x):\n",
        "  \"\"\"ReLU activation function.\"\"\"\n",
        "  return np.maximum(0, x)\n",
        "\n",
        "def sigmoid(x):\n",
        "  \"\"\"Sigmoid activation function.\"\"\"\n",
        "  return 1 / (1 + np.exp(-x))\n",
        "\n",
        "def forward_propagation(X, weights_input_hidden, biases_hidden, weights_hidden_output, biases_output):\n",
        "  \"\"\"\n",
        "  Performs forward propagation through the neural network.\n",
        "\n",
        "  Args:\n",
        "    X: Input data.\n",
        "    weights_input_hidden: Weights for the input to hidden layer.\n",
        "    biases_hidden: Biases for the hidden layer.\n",
        "    weights_hidden_output: Weights for the hidden to output layer.\n",
        "    biases_output: Biases for the output layer.\n",
        "\n",
        "  Returns:\n",
        "    A tuple containing:\n",
        "      - hidden_output: Output of the hidden layer after activation.\n",
        "      - final_output: Final output of the neural network after activation.\n",
        "  \"\"\"\n",
        "  # Calculate weighted sum for the hidden layer\n",
        "  hidden_layer_input = np.dot(X, weights_input_hidden) + biases_hidden\n",
        "\n",
        "  # Apply ReLU activation to the hidden layer\n",
        "  hidden_output = relu(hidden_layer_input)\n",
        "\n",
        "  # Calculate weighted sum for the output layer\n",
        "  output_layer_input = np.dot(hidden_output, weights_hidden_output) + biases_output\n",
        "\n",
        "  # Apply Sigmoid activation to the output layer\n",
        "  final_output = sigmoid(output_layer_input)\n",
        "\n",
        "  return hidden_output, final_output\n",
        "\n",
        "# Example usage (assuming X is defined, e.g., X = np.random.randn(1, n_input))\n",
        "# Replace with your actual input data\n",
        "# X = np.random.randn(1, n_input)\n",
        "# hidden_output, final_output = forward_propagation(X, weights_input_hidden, biases_hidden, weights_hidden_output, biases_output)\n",
        "# print(\"\\nHidden Layer Output:\")\n",
        "# print(hidden_output)\n",
        "# print(\"\\nFinal Output:\")\n",
        "# print(final_output)"
      ],
      "execution_count": 1,
      "outputs": []
    },
    {
      "cell_type": "markdown",
      "metadata": {
        "id": "2f2850b5"
      },
      "source": [
        "## Implement the backward propagation function\n",
        "\n",
        "### Subtask:\n",
        "Implement the backward propagation function.\n"
      ]
    },
    {
      "cell_type": "markdown",
      "metadata": {
        "id": "bdce25cd"
      },
      "source": [
        "**Reasoning**:\n",
        "Implement the backward propagation function as described in the instructions, including calculating errors, deltas, and gradients.\n",
        "\n"
      ]
    },
    {
      "cell_type": "code",
      "metadata": {
        "id": "e117c5a9"
      },
      "source": [
        "def relu_derivative(x):\n",
        "  \"\"\"Derivative of the ReLU activation function.\"\"\"\n",
        "  return np.where(x > 0, 1, 0)\n",
        "\n",
        "def sigmoid_derivative(x):\n",
        "  \"\"\"Derivative of the Sigmoid activation function.\"\"\"\n",
        "  return x * (1 - x)\n",
        "\n",
        "def backward_propagation(X, y, hidden_output, final_output, weights_hidden_output, learning_rate):\n",
        "  \"\"\"\n",
        "  Performs backward propagation through the neural network.\n",
        "\n",
        "  Args:\n",
        "    X: Input data.\n",
        "    y: True labels.\n",
        "    hidden_output: Output of the hidden layer from forward propagation.\n",
        "    final_output: Final output of the network from forward propagation.\n",
        "    weights_hidden_output: Weights from hidden to output layer.\n",
        "    learning_rate: The learning rate for updating weights and biases.\n",
        "\n",
        "  Returns:\n",
        "    A tuple containing:\n",
        "      - gradients_weights_hidden_output: Gradients for the hidden-to-output weights.\n",
        "      - gradients_biases_output: Gradients for the output layer biases.\n",
        "      - gradients_weights_input_hidden: Gradients for the input-to-hidden weights.\n",
        "      - gradients_biases_hidden: Gradients for the hidden layer biases.\n",
        "  \"\"\"\n",
        "  # Calculate the error at the output layer\n",
        "  output_error = final_output - y\n",
        "\n",
        "  # Calculate the derivative of the sigmoid activation function\n",
        "  sigmoid_derivative_output = sigmoid_derivative(final_output)\n",
        "\n",
        "  # Calculate the delta for the output layer\n",
        "  output_delta = output_error * sigmoid_derivative_output\n",
        "\n",
        "  # Calculate the error at the hidden layer\n",
        "  hidden_error = np.dot(output_delta, weights_hidden_output.T)\n",
        "\n",
        "  # Calculate the derivative of the ReLU activation function\n",
        "  relu_derivative_hidden = relu_derivative(hidden_output)\n",
        "\n",
        "  # Calculate the delta for the hidden layer\n",
        "  hidden_delta = hidden_error * relu_derivative_hidden\n",
        "\n",
        "  # Calculate gradients for the weights and biases\n",
        "  gradients_weights_hidden_output = np.dot(hidden_output.T, output_delta)\n",
        "  gradients_biases_output = np.sum(output_delta, axis=0, keepdims=True)\n",
        "  gradients_weights_input_hidden = np.dot(X.T, hidden_delta)\n",
        "  gradients_biases_hidden = np.sum(hidden_delta, axis=0, keepdims=True)\n",
        "\n",
        "  return gradients_weights_hidden_output, gradients_biases_output, gradients_weights_input_hidden, gradients_biases_hidden\n",
        "\n",
        "# Example usage (assuming X, y, hidden_output, final_output, weights_hidden_output are defined)\n",
        "# Replace with your actual data\n",
        "# X_sample = np.random.randn(1, n_input)\n",
        "# y_sample = np.array([[0]]) # Example true label\n",
        "# hidden_output_sample, final_output_sample = forward_propagation(X_sample, weights_input_hidden, biases_hidden, weights_hidden_output, biases_output)\n",
        "# learning_rate_sample = 0.01\n",
        "\n",
        "# gradients_weights_hidden_output, gradients_biases_output, gradients_weights_input_hidden, gradients_biases_hidden = backward_propagation(X_sample, y_sample, hidden_output_sample, final_output_sample, weights_hidden_output, learning_rate_sample)\n",
        "\n",
        "# print(\"\\nGradients Weights Hidden to Output:\")\n",
        "# print(gradients_weights_hidden_output)\n",
        "# print(\"\\nGradients Biases Output:\")\n",
        "# print(gradients_biases_output)\n",
        "# print(\"\\nGradients Weights Input to Hidden:\")\n",
        "# print(gradients_weights_input_hidden)\n",
        "# print(\"\\nGradients Biases Hidden:\")\n",
        "# print(gradients_biases_hidden)"
      ],
      "execution_count": 2,
      "outputs": []
    },
    {
      "cell_type": "markdown",
      "metadata": {
        "id": "439f2b5d"
      },
      "source": [
        "## Implement the training function\n",
        "\n",
        "### Subtask:\n",
        "Implement the training function.\n"
      ]
    },
    {
      "cell_type": "markdown",
      "metadata": {
        "id": "54c76ce7"
      },
      "source": [
        "**Reasoning**:\n",
        "Implement the training function as described in the instructions, including the forward and backward passes, loss calculation, gradient updates, and optional loss reporting.\n",
        "\n"
      ]
    },
    {
      "cell_type": "code",
      "metadata": {
        "id": "2b6f42ad"
      },
      "source": [
        "def train(X, y, weights_input_hidden, biases_hidden, weights_hidden_output, biases_output, learning_rate, epochs):\n",
        "  \"\"\"\n",
        "  Trains the neural network using forward and backward propagation.\n",
        "\n",
        "  Args:\n",
        "    X: Input data.\n",
        "    y: True labels.\n",
        "    weights_input_hidden: Initial weights for the input to hidden layer.\n",
        "    biases_hidden: Initial biases for the hidden layer.\n",
        "    weights_hidden_output: Initial weights for the hidden to output layer.\n",
        "    biases_output: Initial biases for the output layer.\n",
        "    learning_rate: The learning rate for updating weights and biases.\n",
        "    epochs: The number of training epochs.\n",
        "\n",
        "  Returns:\n",
        "    A tuple containing:\n",
        "      - updated_weights_input_hidden: Trained weights for the input to hidden layer.\n",
        "      - updated_biases_hidden: Trained biases for the hidden layer.\n",
        "      - updated_weights_hidden_output: Trained weights for the hidden to output layer.\n",
        "      - updated_biases_output: Trained biases for the output layer.\n",
        "  \"\"\"\n",
        "  # Use the initial weights and biases, but update them during training\n",
        "  updated_weights_input_hidden = weights_input_hidden\n",
        "  updated_biases_hidden = biases_hidden\n",
        "  updated_weights_hidden_output = weights_hidden_output\n",
        "  updated_biases_output = biases_output\n",
        "\n",
        "  for epoch in range(epochs):\n",
        "    # Forward propagation\n",
        "    hidden_output, final_output = forward_propagation(X, updated_weights_input_hidden, updated_biases_hidden, updated_weights_hidden_output, updated_biases_output)\n",
        "\n",
        "    # Calculate Loss (Mean Squared Error)\n",
        "    loss = np.mean(np.square(y - final_output))\n",
        "\n",
        "    # Backward propagation\n",
        "    gradients_weights_hidden_output, gradients_biases_output, gradients_weights_input_hidden, gradients_biases_hidden = backward_propagation(X, y, hidden_output, final_output, updated_weights_hidden_output, learning_rate)\n",
        "\n",
        "    # Update weights and biases\n",
        "    updated_weights_hidden_output -= learning_rate * gradients_weights_hidden_output\n",
        "    updated_biases_output -= learning_rate * gradients_biases_output\n",
        "    updated_weights_input_hidden -= learning_rate * gradients_weights_input_hidden\n",
        "    updated_biases_hidden -= learning_rate * gradients_biases_hidden\n",
        "\n",
        "    # Optional: Print loss every few epochs\n",
        "    if epoch % 1000 == 0:\n",
        "      print(f\"Epoch {epoch}, Loss: {loss}\")\n",
        "\n",
        "  return updated_weights_input_hidden, updated_biases_hidden, updated_weights_hidden_output, updated_biases_output\n",
        "\n",
        "# Example usage (assuming X and y are defined)\n",
        "# X_train = np.random.randn(100, n_input) # Example training data\n",
        "# y_train = np.random.randint(0, 2, size=(100, n_output)) # Example true labels\n",
        "\n",
        "# learning_rate_train = 0.01\n",
        "# epochs_train = 5000\n",
        "\n",
        "# trained_weights_input_hidden, trained_biases_hidden, trained_weights_hidden_output, trained_biases_output = train(\n",
        "#     X_train, y_train, weights_input_hidden, biases_hidden, weights_hidden_output, biases_output, learning_rate_train, epochs_train\n",
        "# )\n",
        "\n",
        "# print(\"\\nTrained Weights Input to Hidden:\")\n",
        "# print(trained_weights_input_hidden)\n",
        "# print(\"\\nTrained Biases Hidden:\")\n",
        "# print(trained_biases_hidden)\n",
        "# print(\"\\nTrained Weights Hidden to Output:\")\n",
        "# print(trained_weights_hidden_output)\n",
        "# print(\"\\nTrained Biases Output:\")\n",
        "# print(trained_biases_output)"
      ],
      "execution_count": 3,
      "outputs": []
    },
    {
      "cell_type": "markdown",
      "metadata": {
        "id": "07b042f9"
      },
      "source": [
        "## Train the neural network\n",
        "\n",
        "### Subtask:\n",
        "Train the neural network on a given dataset and evaluate its performance.\n"
      ]
    },
    {
      "cell_type": "markdown",
      "metadata": {
        "id": "c51c334f"
      },
      "source": [
        "**Reasoning**:\n",
        "The subtask requires training the neural network on example data and evaluating its performance. This involves creating training and test data, calling the training function, making predictions on test data, converting predictions to binary labels, and calculating accuracy. These steps can be grouped into a single code block.\n",
        "\n"
      ]
    },
    {
      "cell_type": "code",
      "metadata": {
        "colab": {
          "base_uri": "https://localhost:8080/",
          "height": 216
        },
        "id": "0abf343a",
        "outputId": "96a1bdd6-f154-497e-d514-2c97fda09bd0"
      },
      "source": [
        "# 1. Create example training data X_train and corresponding true labels y_train\n",
        "#    for a binary classification problem.\n",
        "np.random.seed(42) # for reproducibility\n",
        "X_train = np.random.randn(100, n_input)\n",
        "# Create a simple classification problem based on the input features\n",
        "y_train = (X_train[:, 0] + X_train[:, 1] > 0).astype(int).reshape(-1, 1)\n",
        "\n",
        "# 2. Call the train function with the training data, initial weights and biases,\n",
        "#    a chosen learning rate, and a suitable number of epochs.\n",
        "learning_rate_train = 0.01\n",
        "epochs_train = 5000\n",
        "\n",
        "trained_weights_input_hidden, trained_biases_hidden, trained_weights_hidden_output, trained_biases_output = train(\n",
        "    X_train, y_train, weights_input_hidden, biases_hidden, weights_hidden_output, biases_output, learning_rate_train, epochs_train\n",
        ")\n",
        "\n",
        "# 3. Create example test data X_test and corresponding true labels y_test\n",
        "np.random.seed(99) # for reproducibility\n",
        "X_test = np.random.randn(50, n_input)\n",
        "y_test = (X_test[:, 0] + X_test[:, 1] > 0).astype(int).reshape(-1, 1)\n",
        "\n",
        "# 4. Use the trained weights and biases to perform forward propagation on the test data\n",
        "_, final_output_test = forward_propagation(X_test, trained_weights_input_hidden, trained_biases_hidden, trained_weights_hidden_output, trained_biases_output)\n",
        "\n",
        "# 5. Convert the predictions final_output_test into binary class labels (0 or 1)\n",
        "predictions = (final_output_test > 0.5).astype(int)\n",
        "\n",
        "# 6. Calculate the accuracy of the trained model\n",
        "accuracy = np.mean(predictions == y_test)\n",
        "\n",
        "# 7. Print the calculated accuracy.\n",
        "print(f\"\\nAccuracy on the test data: {accuracy}\")"
      ],
      "execution_count": 4,
      "outputs": [
        {
          "output_type": "error",
          "ename": "NameError",
          "evalue": "name 'np' is not defined",
          "traceback": [
            "\u001b[0;31m---------------------------------------------------------------------------\u001b[0m",
            "\u001b[0;31mNameError\u001b[0m                                 Traceback (most recent call last)",
            "\u001b[0;32m/tmp/ipython-input-2033025367.py\u001b[0m in \u001b[0;36m<cell line: 0>\u001b[0;34m()\u001b[0m\n\u001b[1;32m      1\u001b[0m \u001b[0;31m# 1. Create example training data X_train and corresponding true labels y_train\u001b[0m\u001b[0;34m\u001b[0m\u001b[0;34m\u001b[0m\u001b[0m\n\u001b[1;32m      2\u001b[0m \u001b[0;31m#    for a binary classification problem.\u001b[0m\u001b[0;34m\u001b[0m\u001b[0;34m\u001b[0m\u001b[0m\n\u001b[0;32m----> 3\u001b[0;31m \u001b[0mnp\u001b[0m\u001b[0;34m.\u001b[0m\u001b[0mrandom\u001b[0m\u001b[0;34m.\u001b[0m\u001b[0mseed\u001b[0m\u001b[0;34m(\u001b[0m\u001b[0;36m42\u001b[0m\u001b[0;34m)\u001b[0m \u001b[0;31m# for reproducibility\u001b[0m\u001b[0;34m\u001b[0m\u001b[0;34m\u001b[0m\u001b[0m\n\u001b[0m\u001b[1;32m      4\u001b[0m \u001b[0mX_train\u001b[0m \u001b[0;34m=\u001b[0m \u001b[0mnp\u001b[0m\u001b[0;34m.\u001b[0m\u001b[0mrandom\u001b[0m\u001b[0;34m.\u001b[0m\u001b[0mrandn\u001b[0m\u001b[0;34m(\u001b[0m\u001b[0;36m100\u001b[0m\u001b[0;34m,\u001b[0m \u001b[0mn_input\u001b[0m\u001b[0;34m)\u001b[0m\u001b[0;34m\u001b[0m\u001b[0;34m\u001b[0m\u001b[0m\n\u001b[1;32m      5\u001b[0m \u001b[0;31m# Create a simple classification problem based on the input features\u001b[0m\u001b[0;34m\u001b[0m\u001b[0;34m\u001b[0m\u001b[0m\n",
            "\u001b[0;31mNameError\u001b[0m: name 'np' is not defined"
          ]
        }
      ]
    },
    {
      "cell_type": "code",
      "metadata": {
        "colab": {
          "base_uri": "https://localhost:8080/",
          "height": 216
        },
        "id": "d9ec7330",
        "outputId": "b2e9e7fb-2a99-454d-c33d-857b7abf63ff"
      },
      "source": [
        "import numpy as np\n",
        "\n",
        "# Define the architecture based on the previous subtask\n",
        "n_input = 2\n",
        "n_hidden = 8  # Example number of hidden neurons\n",
        "n_output = 1\n",
        "\n",
        "# 1. Create example training data X_train and corresponding true labels y_train\n",
        "#    for a binary classification problem.\n",
        "np.random.seed(42) # for reproducibility\n",
        "X_train = np.random.randn(100, n_input)\n",
        "# Create a simple classification problem based on the input features\n",
        "y_train = (X_train[:, 0] + X_train[:, 1] > 0).astype(int).reshape(-1, 1)\n",
        "\n",
        "# 2. Call the train function with the training data, initial weights and biases,\n",
        "#    a chosen learning rate, and a suitable number of epochs.\n",
        "learning_rate_train = 0.01\n",
        "epochs_train = 5000\n",
        "\n",
        "trained_weights_input_hidden, trained_biases_hidden, trained_weights_hidden_output, trained_biases_output = train(\n",
        "    X_train, y_train, weights_input_hidden, biases_hidden, weights_hidden_output, biases_output, learning_rate_train, epochs_train\n",
        ")\n",
        "\n",
        "# 3. Create example test data X_test and corresponding true labels y_test\n",
        "np.random.seed(99) # for reproducibility\n",
        "X_test = np.random.randn(50, n_input)\n",
        "y_test = (X_test[:, 0] + X_test[:, 1] > 0).astype(int).reshape(-1, 1)\n",
        "\n",
        "# 4. Use the trained weights and biases to perform forward propagation on the test data\n",
        "_, final_output_test = forward_propagation(X_test, trained_weights_input_hidden, trained_biases_hidden, trained_weights_hidden_output, trained_biases_output)\n",
        "\n",
        "# 5. Convert the predictions final_output_test into binary class labels (0 or 1)\n",
        "predictions = (final_output_test > 0.5).astype(int)\n",
        "\n",
        "# 6. Calculate the accuracy of the trained model\n",
        "accuracy = np.mean(predictions == y_test)\n",
        "\n",
        "# 7. Print the calculated accuracy.\n",
        "print(f\"\\nAccuracy on the test data: {accuracy}\")"
      ],
      "execution_count": 6,
      "outputs": [
        {
          "output_type": "error",
          "ename": "NameError",
          "evalue": "name 'weights_input_hidden' is not defined",
          "traceback": [
            "\u001b[0;31m---------------------------------------------------------------------------\u001b[0m",
            "\u001b[0;31mNameError\u001b[0m                                 Traceback (most recent call last)",
            "\u001b[0;32m/tmp/ipython-input-1699252653.py\u001b[0m in \u001b[0;36m<cell line: 0>\u001b[0;34m()\u001b[0m\n\u001b[1;32m     19\u001b[0m \u001b[0;34m\u001b[0m\u001b[0m\n\u001b[1;32m     20\u001b[0m trained_weights_input_hidden, trained_biases_hidden, trained_weights_hidden_output, trained_biases_output = train(\n\u001b[0;32m---> 21\u001b[0;31m     \u001b[0mX_train\u001b[0m\u001b[0;34m,\u001b[0m \u001b[0my_train\u001b[0m\u001b[0;34m,\u001b[0m \u001b[0mweights_input_hidden\u001b[0m\u001b[0;34m,\u001b[0m \u001b[0mbiases_hidden\u001b[0m\u001b[0;34m,\u001b[0m \u001b[0mweights_hidden_output\u001b[0m\u001b[0;34m,\u001b[0m \u001b[0mbiases_output\u001b[0m\u001b[0;34m,\u001b[0m \u001b[0mlearning_rate_train\u001b[0m\u001b[0;34m,\u001b[0m \u001b[0mepochs_train\u001b[0m\u001b[0;34m\u001b[0m\u001b[0;34m\u001b[0m\u001b[0m\n\u001b[0m\u001b[1;32m     22\u001b[0m )\n\u001b[1;32m     23\u001b[0m \u001b[0;34m\u001b[0m\u001b[0m\n",
            "\u001b[0;31mNameError\u001b[0m: name 'weights_input_hidden' is not defined"
          ]
        }
      ]
    },
    {
      "cell_type": "code",
      "metadata": {
        "colab": {
          "base_uri": "https://localhost:8080/"
        },
        "id": "ce2f761b",
        "outputId": "6e67d026-00b1-47fd-9267-0962a72938d5"
      },
      "source": [
        "import numpy as np\n",
        "\n",
        "# Define the architecture based on the previous subtask\n",
        "n_input = 2\n",
        "n_hidden = 8  # Example number of hidden neurons\n",
        "n_output = 1\n",
        "\n",
        "# Initialize weights and biases\n",
        "weights_input_hidden = np.random.randn(n_input, n_hidden)\n",
        "biases_hidden = np.random.randn(1, n_hidden)\n",
        "weights_hidden_output = np.random.randn(n_hidden, n_output)\n",
        "biases_output = np.random.randn(1, n_output)\n",
        "\n",
        "# 1. Create example training data X_train and corresponding true labels y_train\n",
        "#    for a binary classification problem.\n",
        "np.random.seed(42) # for reproducibility\n",
        "X_train = np.random.randn(100, n_input)\n",
        "# Create a simple classification problem based on the input features\n",
        "y_train = (X_train[:, 0] + X_train[:, 1] > 0).astype(int).reshape(-1, 1)\n",
        "\n",
        "# 2. Call the train function with the training data, initial weights and biases,\n",
        "#    a chosen learning rate, and a suitable number of epochs.\n",
        "learning_rate_train = 0.01\n",
        "epochs_train = 5000\n",
        "\n",
        "trained_weights_input_hidden, trained_biases_hidden, trained_weights_hidden_output, trained_biases_output = train(\n",
        "    X_train, y_train, weights_input_hidden, biases_hidden, weights_hidden_output, biases_output, learning_rate_train, epochs_train\n",
        ")\n",
        "\n",
        "# 3. Create example test data X_test and corresponding true labels y_test\n",
        "np.random.seed(99) # for reproducibility\n",
        "X_test = np.random.randn(50, n_input)\n",
        "y_test = (X_test[:, 0] + X_test[:, 1] > 0).astype(int).reshape(-1, 1)\n",
        "\n",
        "# 4. Use the trained weights and biases to perform forward propagation on the test data\n",
        "_, final_output_test = forward_propagation(X_test, trained_weights_input_hidden, trained_biases_hidden, trained_weights_hidden_output, trained_biases_output)\n",
        "\n",
        "# 5. Convert the predictions final_output_test into binary class labels (0 or 1)\n",
        "predictions = (final_output_test > 0.5).astype(int)\n",
        "\n",
        "# 6. Calculate the accuracy of the trained model\n",
        "accuracy = np.mean(predictions == y_test)\n",
        "\n",
        "# 7. Print the calculated accuracy.\n",
        "print(f\"\\nAccuracy on the test data: {accuracy}\")"
      ],
      "execution_count": 7,
      "outputs": [
        {
          "output_type": "stream",
          "name": "stdout",
          "text": [
            "Epoch 0, Loss: 0.199504229644004\n",
            "Epoch 1000, Loss: 0.005561953899444082\n",
            "Epoch 2000, Loss: 0.003191847883790887\n",
            "Epoch 3000, Loss: 0.0022188363626224994\n",
            "Epoch 4000, Loss: 0.0016890435291938202\n",
            "\n",
            "Accuracy on the test data: 1.0\n"
          ]
        }
      ]
    },
    {
      "cell_type": "markdown",
      "metadata": {
        "id": "8cccad98"
      },
      "source": [
        "**Reasoning**:\n",
        "The previous code block failed because the `numpy` library was not imported. The code needs to import `numpy` to use `np`.\n",
        "\n"
      ]
    },
    {
      "cell_type": "code",
      "metadata": {
        "colab": {
          "base_uri": "https://localhost:8080/"
        },
        "id": "NkHMgiOnB-Np",
        "outputId": "42b23f2e-d6e7-47e2-d2ed-800ea90d3b11"
      },
      "source": [
        "import numpy as np\n",
        "\n",
        "# 1. Create example training data X_train and corresponding true labels y_train\n",
        "#    for a binary classification problem.\n",
        "np.random.seed(42) # for reproducibility\n",
        "X_train = np.random.randn(100, n_input)\n",
        "# Create a simple classification problem based on the input features\n",
        "y_train = (X_train[:, 0] + X_train[:, 1] > 0).astype(int).reshape(-1, 1)\n",
        "\n",
        "# 2. Call the train function with the training data, initial weights and biases,\n",
        "#    a chosen learning rate, and a suitable number of epochs.\n",
        "learning_rate_train = 0.01\n",
        "epochs_train = 5000\n",
        "\n",
        "trained_weights_input_hidden, trained_biases_hidden, trained_weights_hidden_output, trained_biases_output = train(\n",
        "    X_train, y_train, weights_input_hidden, biases_hidden, weights_hidden_output, biases_output, learning_rate_train, epochs_train\n",
        ")\n",
        "\n",
        "# 3. Create example test data X_test and corresponding true labels y_test\n",
        "np.random.seed(99) # for reproducibility\n",
        "X_test = np.random.randn(50, n_input)\n",
        "y_test = (X_test[:, 0] + X_test[:, 1] > 0).astype(int).reshape(-1, 1)\n",
        "\n",
        "# 4. Use the trained weights and biases to perform forward propagation on the test data\n",
        "_, final_output_test = forward_propagation(X_test, trained_weights_input_hidden, trained_biases_hidden, trained_weights_hidden_output, trained_biases_output)\n",
        "\n",
        "# 5. Convert the predictions final_output_test into binary class labels (0 or 1)\n",
        "predictions = (final_output_test > 0.5).astype(int)\n",
        "\n",
        "# 6. Calculate the accuracy of the trained model\n",
        "accuracy = np.mean(predictions == y_test)\n",
        "\n",
        "# 7. Print the calculated accuracy.\n",
        "print(f\"\\nAccuracy on the test data: {accuracy}\")"
      ],
      "execution_count": 8,
      "outputs": [
        {
          "output_type": "stream",
          "name": "stdout",
          "text": [
            "Epoch 0, Loss: 0.001355122922268845\n",
            "Epoch 1000, Loss: 0.0011250925849003732\n",
            "Epoch 2000, Loss: 0.000957068744881957\n",
            "Epoch 3000, Loss: 0.0008290452829445383\n",
            "Epoch 4000, Loss: 0.0007284160419220259\n",
            "\n",
            "Accuracy on the test data: 1.0\n"
          ]
        }
      ]
    },
    {
      "cell_type": "markdown",
      "metadata": {
        "id": "21e1e2dd"
      },
      "source": [
        "## Summary of Neural Network Architecture and Performance\n",
        "\n",
        "**Architecture:**\n",
        "*   **Input Layer:** 2 neurons (based on `n_input = 2`)\n",
        "*   **Hidden Layer:** 1 hidden layer with 8 neurons (based on `n_hidden = 8`)\n",
        "*   **Output Layer:** 1 neuron (based on `n_output = 1`), using a Sigmoid activation function for binary classification.\n",
        "*   **Activation Functions:** ReLU for the hidden layer and Sigmoid for the output layer.\n",
        "\n",
        "**Training:**\n",
        "*   The network was trained using the `train` function with a learning rate of `0.01` and `5000` epochs.\n",
        "*   Mean Squared Error (MSE) was used as the loss function.\n",
        "\n",
        "**Performance:**\n",
        "*   The network achieved an accuracy of **1.0** on the test data. This indicates that the trained model was able to perfectly classify the test examples in this specific case."
      ]
    },
    {
      "cell_type": "code",
      "metadata": {
        "colab": {
          "base_uri": "https://localhost:8080/",
          "height": 472
        },
        "id": "851c5478",
        "outputId": "af39ae64-4ae9-4c6c-9f98-b6e4a46dc16b"
      },
      "source": [
        "import matplotlib.pyplot as plt\n",
        "\n",
        "# Create a meshgrid to plot the decision boundary\n",
        "x_min, x_max = X_test[:, 0].min() - 1, X_test[:, 0].max() + 1\n",
        "y_min, y_max = X_test[:, 1].min() - 1, X_test[:, 1].max() + 1\n",
        "xx, yy = np.meshgrid(np.arange(x_min, x_max, 0.1),\n",
        "                     np.arange(y_min, y_max, 0.1))\n",
        "\n",
        "# Make predictions on the meshgrid\n",
        "Z = forward_propagation(np.c_[xx.ravel(), yy.ravel()], trained_weights_input_hidden, trained_biases_hidden, trained_weights_hidden_output, trained_biases_output)[1]\n",
        "Z = (Z > 0.5).astype(int).reshape(xx.shape)\n",
        "\n",
        "# Plot the decision boundary\n",
        "plt.contourf(xx, yy, Z, alpha=0.4)\n",
        "plt.scatter(X_test[:, 0], X_test[:, 1], c=y_test.ravel(), s=20, edgecolor='k')\n",
        "plt.title(\"Decision Boundary of the Trained Neural Network\")\n",
        "plt.xlabel(\"Input Feature 1\")\n",
        "plt.ylabel(\"Input Feature 2\")\n",
        "plt.show()"
      ],
      "execution_count": 9,
      "outputs": [
        {
          "output_type": "display_data",
          "data": {
            "text/plain": [
              "<Figure size 640x480 with 1 Axes>"
            ],
            "image/png": "[encoded data removed]"
          },
          "metadata": {}
        }
      ]
    }
  ]
}