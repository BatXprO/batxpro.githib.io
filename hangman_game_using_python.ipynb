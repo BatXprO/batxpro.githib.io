{
  "nbformat": 4,
  "nbformat_minor": 0,
  "metadata": {
    "colab": {
      "provenance": [],
      "authorship_tag": "ABX9TyNTXP40s5ECC9/oAG/YwtHd",
      "include_colab_link": true
    },
    "kernelspec": {
      "name": "python3",
      "display_name": "Python 3"
    },
    "language_info": {
      "name": "python"
    }
  },
  "cells": [
    {
      "cell_type": "markdown",
      "metadata": {
        "id": "view-in-github",
        "colab_type": "text"
      },
      "source": [
        "<a href=\"https://colab.research.google.com/github/BatXprO/batxpro.githib.io/blob/main/hangman_game_using_python.ipynb\" target=\"_parent\"><img src=\"https://colab.research.google.com/assets/colab-badge.svg\" alt=\"Open In Colab\"/></a>"
      ]
    },
    {
      "cell_type": "code",
      "execution_count": null,
      "metadata": {
        "id": "mi-aJ3-7K_gR"
      },
      "outputs": [],
      "source": []
    },
    {
      "cell_type": "markdown",
      "metadata": {
        "id": "3766b8c0"
      },
      "source": [
        "# Task\n",
        "Create a Python script for a Hangman game."
      ]
    },
    {
      "cell_type": "markdown",
      "metadata": {
        "id": "29425578"
      },
      "source": [
        "## Set up the game\n",
        "\n",
        "### Subtask:\n",
        "Initialize the game by choosing a random word and setting up variables for the number of attempts, the guessed letters, and the current state of the word to be guessed.\n"
      ]
    },
    {
      "cell_type": "markdown",
      "metadata": {
        "id": "8c8ffd6f"
      },
      "source": [
        "**Reasoning**:\n",
        "Initialize the game by importing necessary modules, creating a list of words, choosing a random word, setting the number of attempts, and initializing the guessed letters and the current state of the word.\n",
        "\n"
      ]
    },
    {
      "cell_type": "code",
      "metadata": {
        "colab": {
          "base_uri": "https://localhost:8080/"
        },
        "id": "a779fe7c",
        "outputId": "75c714a8-03d7-492e-a62c-8d0c4a0dd2f9"
      },
      "source": [
        "import random\n",
        "\n",
        "words = [\"python\", \"programming\", \"hangman\", \"challenge\", \"computer\"]\n",
        "chosen_word = random.choice(words)\n",
        "attempts = 6\n",
        "guessed_letters = []\n",
        "current_state = [\"_\" for _ in chosen_word]\n",
        "\n",
        "print(\"Welcome to Hangman!\")\n",
        "print(f\"The word has {len(chosen_word)} letters.\")\n",
        "print(\" \".join(current_state))"
      ],
      "execution_count": 1,
      "outputs": [
        {
          "output_type": "stream",
          "name": "stdout",
          "text": [
            "Welcome to Hangman!\n",
            "The word has 8 letters.\n",
            "_ _ _ _ _ _ _ _\n"
          ]
        }
      ]
    },
    {
      "cell_type": "markdown",
      "metadata": {
        "id": "86b129dd"
      },
      "source": [
        "## Display game state\n",
        "\n",
        "### Subtask:\n",
        "Create a function to display the current state of the game, including the masked word, the guessed letters, and the remaining attempts.\n"
      ]
    },
    {
      "cell_type": "markdown",
      "metadata": {
        "id": "2ba9bc9d"
      },
      "source": [
        "**Reasoning**:\n",
        "Define the function `display_game_state` as instructed, including printing the current state of the word, guessed letters, and remaining attempts.\n",
        "\n"
      ]
    },
    {
      "cell_type": "code",
      "metadata": {
        "colab": {
          "base_uri": "https://localhost:8080/"
        },
        "id": "10fa6f81",
        "outputId": "28f10dac-dbdd-45ef-b778-786633c2a386"
      },
      "source": [
        "def display_game_state(current_state, guessed_letters, attempts):\n",
        "  \"\"\"Displays the current state of the Hangman game, including the stick figure.\"\"\"\n",
        "  hangman_stages = [\n",
        "      \"\"\"\n",
        "        _______\n",
        "       |       |\n",
        "       |\n",
        "       |\n",
        "       |\n",
        "       |\n",
        "       |_______\n",
        "      \"\"\",\n",
        "      \"\"\"\n",
        "        _______\n",
        "       |       |\n",
        "       |       O\n",
        "       |\n",
        "       |\n",
        "       |\n",
        "       |_______\n",
        "      \"\"\",\n",
        "      \"\"\"\n",
        "        _______\n",
        "       |       |\n",
        "       |       O\n",
        "       |       |\n",
        "       |\n",
        "       |\n",
        "       |_______\n",
        "      \"\"\",\n",
        "      \"\"\"\n",
        "        _______\n",
        "       |       |\n",
        "       |       O\n",
        "       |      /|\n",
        "       |\n",
        "       |\n",
        "       |_______\n",
        "      \"\"\",\n",
        "      \"\"\"\n",
        "        _______\n",
        "       |       |\n",
        "       |       O\n",
        "       |      /|\\\\\n",
        "       |\n",
        "       |\n",
        "       |_______\n",
        "      \"\"\",\n",
        "      \"\"\"\n",
        "        _______\n",
        "       |       |\n",
        "       |       O\n",
        "       |      /|\\\\\n",
        "       |      /\n",
        "       |\n",
        "       |_______\n",
        "      \"\"\",\n",
        "      \"\"\"\n",
        "        _______\n",
        "       |       |\n",
        "       |       O\n",
        "       |      /|\\\\\n",
        "       |      / \\\\\n",
        "       |\n",
        "       |_______\n",
        "      \"\"\"\n",
        "  ]\n",
        "\n",
        "  print(hangman_stages[6 - attempts]) # Display the appropriate hangman stage\n",
        "  print(\"\\nCurrent word state:\", \" \".join(current_state))\n",
        "  print(\"Guessed letters:\", \", \".join(guessed_letters))\n",
        "  print(\"Attempts remaining:\", attempts)\n",
        "\n",
        "display_game_state(current_state, guessed_letters, attempts)"
      ],
      "execution_count": 8,
      "outputs": [
        {
          "output_type": "stream",
          "name": "stdout",
          "text": [
            "\n",
            "        _______\n",
            "       |       |\n",
            "       |       O\n",
            "       |      /|\\\n",
            "       |      / \\\n",
            "       |       \n",
            "       |_______\n",
            "      \n",
            "\n",
            "Current word state: _ _ t _ o n\n",
            "Guessed letters: t, a, e, i, o, u, n, m, q\n",
            "Attempts remaining: 0\n"
          ]
        }
      ]
    },
    {
      "cell_type": "markdown",
      "metadata": {
        "id": "cfdd3fb9"
      },
      "source": [
        "## Handle player input\n",
        "\n",
        "### Subtask:\n",
        "Create a function to get player input (a letter guess) and validate it.\n"
      ]
    },
    {
      "cell_type": "markdown",
      "metadata": {
        "id": "99423efb"
      },
      "source": [
        "**Reasoning**:\n",
        "Define the `get_player_input` function to handle player guesses and validation.\n",
        "\n"
      ]
    },
    {
      "cell_type": "code",
      "metadata": {
        "id": "1488af24"
      },
      "source": [
        "def get_player_input(guessed_letters):\n",
        "  \"\"\"Gets and validates player input (a letter guess).\"\"\"\n",
        "  while True:\n",
        "    guess = input(\"Guess a letter: \").lower()\n",
        "    if not guess.isalpha() or len(guess) != 1:\n",
        "      print(\"Invalid input. Please enter a single letter.\")\n",
        "    elif guess in guessed_letters:\n",
        "      print(\"You already guessed that letter. Try again.\")\n",
        "    else:\n",
        "      return guess"
      ],
      "execution_count": 3,
      "outputs": []
    },
    {
      "cell_type": "markdown",
      "metadata": {
        "id": "82bf7990"
      },
      "source": [
        "## Update game state\n",
        "\n",
        "### Subtask:\n",
        "Create a function to update the game state based on the player's guess, checking if the letter is in the word and updating the masked word and remaining attempts accordingly.\n"
      ]
    },
    {
      "cell_type": "markdown",
      "metadata": {
        "id": "21614dab"
      },
      "source": [
        "**Reasoning**:\n",
        "Define the `update_game_state` function to update the game state based on the player's guess.\n",
        "\n"
      ]
    },
    {
      "cell_type": "code",
      "metadata": {
        "id": "91f3a26a"
      },
      "source": [
        "def update_game_state(chosen_word, current_state, guessed_letters, attempts, guess):\n",
        "  \"\"\"Updates the game state based on the player's guess.\"\"\"\n",
        "  guessed_letters.append(guess)\n",
        "\n",
        "  if guess in chosen_word:\n",
        "    for i in range(len(chosen_word)):\n",
        "      if chosen_word[i] == guess:\n",
        "        current_state[i] = guess\n",
        "  else:\n",
        "    attempts -= 1\n",
        "\n",
        "  return current_state, attempts"
      ],
      "execution_count": 4,
      "outputs": []
    },
    {
      "cell_type": "markdown",
      "metadata": {
        "id": "39204b7d"
      },
      "source": [
        "## Check game win/loss\n",
        "\n",
        "### Subtask:\n",
        "Create a function to check if the player has won (guessed the word) or lost (run out of attempts).\n"
      ]
    },
    {
      "cell_type": "markdown",
      "metadata": {
        "id": "9ddb6d61"
      },
      "source": [
        "**Reasoning**:\n",
        "Define the `check_game_status` function as described in the instructions.\n",
        "\n"
      ]
    },
    {
      "cell_type": "code",
      "metadata": {
        "id": "555505f7"
      },
      "source": [
        "def check_game_status(chosen_word, current_state, attempts):\n",
        "  \"\"\"Checks if the player has won or lost.\"\"\"\n",
        "  if \"\".join(current_state) == chosen_word:\n",
        "    return \"win\"\n",
        "  elif attempts <= 0:\n",
        "    return \"loss\"\n",
        "  else:\n",
        "    return \"continue\""
      ],
      "execution_count": 5,
      "outputs": []
    },
    {
      "cell_type": "markdown",
      "metadata": {
        "id": "7210c568"
      },
      "source": [
        "## Game loop\n",
        "\n",
        "### Subtask:\n",
        "Create a main game loop that continues until the player wins or loses, calling the functions to display the state, get input, update the state, and check for win/loss.\n"
      ]
    },
    {
      "cell_type": "markdown",
      "metadata": {
        "id": "385789f6"
      },
      "source": [
        "**Reasoning**:\n",
        "Implement the main game loop that continues until the player wins or loses, calling the necessary functions to play the game. After the loop, check the final game status and print the appropriate message.\n",
        "\n"
      ]
    },
    {
      "cell_type": "code",
      "metadata": {
        "colab": {
          "base_uri": "https://localhost:8080/"
        },
        "id": "bbefcd70",
        "outputId": "f09107e6-8b95-4ac7-9af5-dffbba4703eb"
      },
      "source": [
        "while check_game_status(chosen_word, current_state, attempts) == \"continue\":\n",
        "  display_game_state(current_state, guessed_letters, attempts)\n",
        "  guess = get_player_input(guessed_letters)\n",
        "  current_state, attempts = update_game_state(chosen_word, current_state, guessed_letters, attempts, guess)\n",
        "\n",
        "final_status = check_game_status(chosen_word, current_state, attempts)\n",
        "\n",
        "if final_status == \"win\":\n",
        "  print(\"\\nCongratulations! You guessed the word:\", chosen_word)\n",
        "elif final_status == \"loss\":\n",
        "  print(\"\\nSorry, you ran out of attempts. The word was:\", chosen_word)"
      ],
      "execution_count": 6,
      "outputs": [
        {
          "output_type": "stream",
          "name": "stdout",
          "text": [
            "\n",
            "Current word state: _ _ _ _ _ _ _ _\n",
            "Guessed letters: \n",
            "Attempts remaining: 6\n",
            "Guess a letter: r\n",
            "\n",
            "Current word state: _ _ _ _ _ _ _ r\n",
            "Guessed letters: r\n",
            "Attempts remaining: 6\n",
            "Guess a letter: e\n",
            "\n",
            "Current word state: _ _ _ _ _ _ e r\n",
            "Guessed letters: r, e\n",
            "Attempts remaining: 6\n",
            "Guess a letter: r\n",
            "You already guessed that letter. Try again.\n",
            "Guess a letter: d\n",
            "\n",
            "Current word state: _ _ _ _ _ _ e r\n",
            "Guessed letters: r, e, d\n",
            "Attempts remaining: 5\n",
            "Guess a letter: f\n",
            "\n",
            "Current word state: _ _ _ _ _ _ e r\n",
            "Guessed letters: r, e, d, f\n",
            "Attempts remaining: 4\n",
            "Guess a letter: g\n",
            "\n",
            "Current word state: _ _ _ _ _ _ e r\n",
            "Guessed letters: r, e, d, f, g\n",
            "Attempts remaining: 3\n",
            "Guess a letter: j\n",
            "\n",
            "Current word state: _ _ _ _ _ _ e r\n",
            "Guessed letters: r, e, d, f, g, j\n",
            "Attempts remaining: 2\n",
            "Guess a letter: k\n",
            "\n",
            "Current word state: _ _ _ _ _ _ e r\n",
            "Guessed letters: r, e, d, f, g, j, k\n",
            "Attempts remaining: 1\n",
            "Guess a letter: l\n",
            "\n",
            "Sorry, you ran out of attempts. The word was: computer\n"
          ]
        }
      ]
    },
    {
      "cell_type": "markdown",
      "metadata": {
        "id": "957d3a16"
      },
      "source": [
        "## Play again\n",
        "\n",
        "### Subtask:\n",
        "Ask the player if they want to play again after the game ends.\n"
      ]
    },
    {
      "cell_type": "markdown",
      "metadata": {
        "id": "6650cee4"
      },
      "source": [
        "**Reasoning**:\n",
        "After the game ends, the player should be asked if they want to play again. This requires prompting for input and then acting based on that input. This can be done within a single code block after the win/loss message.\n",
        "\n"
      ]
    },
    {
      "cell_type": "code",
      "metadata": {
        "colab": {
          "base_uri": "https://localhost:8080/"
        },
        "id": "1535f885",
        "outputId": "218765d0-ff78-4e78-f881-769968dc6137"
      },
      "source": [
        "while True:\n",
        "  # Existing game initialization and loop code\n",
        "  chosen_word = random.choice(words)\n",
        "  attempts = 6\n",
        "  guessed_letters = []\n",
        "  current_state = [\"_\" for _ in chosen_word]\n",
        "\n",
        "  print(\"Welcome to Hangman!\")\n",
        "  print(f\"The word has {len(chosen_word)} letters.\")\n",
        "  print(\" \".join(current_state))\n",
        "\n",
        "  while check_game_status(chosen_word, current_state, attempts) == \"continue\":\n",
        "    display_game_state(current_state, guessed_letters, attempts)\n",
        "    guess = get_player_input(guessed_letters)\n",
        "    current_state, attempts = update_game_state(chosen_word, current_state, guessed_letters, attempts, guess)\n",
        "\n",
        "  final_status = check_game_status(chosen_word, current_state, attempts)\n",
        "\n",
        "  if final_status == \"win\":\n",
        "    print(\"\\nCongratulations! You guessed the word:\", chosen_word)\n",
        "  elif final_status == \"loss\":\n",
        "    print(\"\\nSorry, you ran out of attempts. The word was:\", chosen_word)\n",
        "\n",
        "  # Ask if the player wants to play again\n",
        "  play_again = input(\"Do you want to play again? (yes/no): \").lower()\n",
        "  if play_again != 'yes' and play_again != 'y':\n",
        "    print(\"Thanks for playing! Goodbye.\")\n",
        "    break # Exit the outer while loop"
      ],
      "execution_count": 7,
      "outputs": [
        {
          "output_type": "stream",
          "name": "stdout",
          "text": [
            "Welcome to Hangman!\n",
            "The word has 6 letters.\n",
            "_ _ _ _ _ _\n",
            "\n",
            "Current word state: _ _ _ _ _ _\n",
            "Guessed letters: \n",
            "Attempts remaining: 6\n",
            "Guess a letter: t\n",
            "\n",
            "Current word state: _ _ t _ _ _\n",
            "Guessed letters: t\n",
            "Attempts remaining: 6\n",
            "Guess a letter: a\n",
            "\n",
            "Current word state: _ _ t _ _ _\n",
            "Guessed letters: t, a\n",
            "Attempts remaining: 5\n",
            "Guess a letter: e\n",
            "\n",
            "Current word state: _ _ t _ _ _\n",
            "Guessed letters: t, a, e\n",
            "Attempts remaining: 4\n",
            "Guess a letter: i\n",
            "\n",
            "Current word state: _ _ t _ _ _\n",
            "Guessed letters: t, a, e, i\n",
            "Attempts remaining: 3\n",
            "Guess a letter: o\n",
            "\n",
            "Current word state: _ _ t _ o _\n",
            "Guessed letters: t, a, e, i, o\n",
            "Attempts remaining: 3\n",
            "Guess a letter: u\n",
            "\n",
            "Current word state: _ _ t _ o _\n",
            "Guessed letters: t, a, e, i, o, u\n",
            "Attempts remaining: 2\n",
            "Guess a letter: n\n",
            "\n",
            "Current word state: _ _ t _ o n\n",
            "Guessed letters: t, a, e, i, o, u, n\n",
            "Attempts remaining: 2\n",
            "Guess a letter: m\n",
            "\n",
            "Current word state: _ _ t _ o n\n",
            "Guessed letters: t, a, e, i, o, u, n, m\n",
            "Attempts remaining: 1\n",
            "Guess a letter: q\n",
            "\n",
            "Sorry, you ran out of attempts. The word was: python\n",
            "Do you want to play again? (yes/no): no\n",
            "Thanks for playing! Goodbye.\n"
          ]
        }
      ]
    }
  ]
}