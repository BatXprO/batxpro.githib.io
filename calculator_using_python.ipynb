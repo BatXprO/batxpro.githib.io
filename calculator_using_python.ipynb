{
  "nbformat": 4,
  "nbformat_minor": 0,
  "metadata": {
    "colab": {
      "provenance": [],
      "authorship_tag": "ABX9TyMjOEByZYcFl9hkPkrhupXH",
      "include_colab_link": true
    },
    "kernelspec": {
      "name": "python3",
      "display_name": "Python 3"
    },
    "language_info": {
      "name": "python"
    }
  },
  "cells": [
    {
      "cell_type": "markdown",
      "metadata": {
        "id": "view-in-github",
        "colab_type": "text"
      },
      "source": [
        "<a href=\"https://colab.research.google.com/github/BatXprO/batxpro.githib.io/blob/main/calculator_using_python.ipynb\" target=\"_parent\"><img src=\"https://colab.research.google.com/assets/colab-badge.svg\" alt=\"Open In Colab\"/></a>"
      ]
    },
    {
      "cell_type": "code",
      "metadata": {
        "colab": {
          "base_uri": "https://localhost:8080/"
        },
        "id": "8e937169",
        "outputId": "79170c4a-13cf-4f3e-9df3-d6100a36811b"
      },
      "source": [
        "num1 = float(input(\"Enter the first number: \"))\n",
        "num2 = float(input(\"Enter the second number: \"))\n",
        "operation = input(\"Enter the desired operation (addition, subtraction, multiplication, or division): \")"
      ],
      "execution_count": 1,
      "outputs": [
        {
          "name": "stdout",
          "output_type": "stream",
          "text": [
            "Enter the first number: 3\n",
            "Enter the second number: 5\n",
            "Enter the desired operation (addition, subtraction, multiplication, or division): addition\n"
          ]
        }
      ]
    },
    {
      "cell_type": "markdown",
      "metadata": {
        "id": "690c5f6e"
      },
      "source": [
        "## Perform calculation\n",
        "\n",
        "### Subtask:\n",
        "Based on the user's input, perform the corresponding arithmetic operation.\n"
      ]
    },
    {
      "cell_type": "markdown",
      "metadata": {
        "id": "d571dc21"
      },
      "source": [
        "**Reasoning**:\n",
        "Based on the user's input for the operation, perform the corresponding arithmetic calculation using conditional statements and handle division by zero.\n",
        "\n"
      ]
    },
    {
      "cell_type": "code",
      "metadata": {
        "id": "65441646"
      },
      "source": [
        "result = None\n",
        "if operation == \"addition\":\n",
        "    result = num1 + num2\n",
        "elif operation == \"subtraction\":\n",
        "    result = num1 - num2\n",
        "elif operation == \"multiplication\":\n",
        "    result = num1 * num2\n",
        "elif operation == \"division\":\n",
        "    if num2 != 0:\n",
        "        result = num1 / num2\n",
        "    else:\n",
        "        print(\"Error: Division by zero is not allowed.\")\n",
        "else:\n",
        "    print(\"Invalid operation entered.\")"
      ],
      "execution_count": 2,
      "outputs": []
    },
    {
      "cell_type": "markdown",
      "metadata": {
        "id": "81cf1cb4"
      },
      "source": [
        "## Display result\n",
        "\n",
        "### Subtask:\n",
        "Print the result of the calculation to the user.\n"
      ]
    },
    {
      "cell_type": "markdown",
      "metadata": {
        "id": "e9a0be9a"
      },
      "source": [
        "**Reasoning**:\n",
        "Print the result if the calculation was successful.\n",
        "\n"
      ]
    },
    {
      "cell_type": "code",
      "metadata": {
        "colab": {
          "base_uri": "https://localhost:8080/"
        },
        "id": "11d1af39",
        "outputId": "d02c1648-2913-42ed-c5ea-5137ec9cbd6a"
      },
      "source": [
        "if result is not None:\n",
        "    print(\"Result:\", result)"
      ],
      "execution_count": 3,
      "outputs": [
        {
          "output_type": "stream",
          "name": "stdout",
          "text": [
            "Result: 8.0\n"
          ]
        }
      ]
    }
  ]
}