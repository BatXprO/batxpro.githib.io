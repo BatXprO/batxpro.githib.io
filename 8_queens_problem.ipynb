{
  "nbformat": 4,
  "nbformat_minor": 0,
  "metadata": {
    "colab": {
      "provenance": [],
      "authorship_tag": "ABX9TyOaCHKY8b3A+sEYH6UhtJaK",
      "include_colab_link": true
    },
    "kernelspec": {
      "name": "python3",
      "display_name": "Python 3"
    },
    "language_info": {
      "name": "python"
    }
  },
  "cells": [
    {
      "cell_type": "markdown",
      "metadata": {
        "id": "view-in-github",
        "colab_type": "text"
      },
      "source": [
        "<a href=\"https://colab.research.google.com/github/BatXprO/batxpro.githib.io/blob/main/8_queens_problem.ipynb\" target=\"_parent\"><img src=\"https://colab.research.google.com/assets/colab-badge.svg\" alt=\"Open In Colab\"/></a>"
      ]
    },
    {
      "cell_type": "code",
      "execution_count": null,
      "metadata": {
        "id": "_Kb5Xv9NMtOF"
      },
      "outputs": [],
      "source": []
    },
    {
      "cell_type": "code",
      "metadata": {
        "colab": {
          "base_uri": "https://localhost:8080/"
        },
        "id": "bef2d28c",
        "outputId": "5f19a141-5cd3-4793-afbb-9a026ca1ea79"
      },
      "source": [
        "def solve_n_queens(n):\n",
        "    \"\"\"Solves the N-Queens problem using backtracking.\"\"\"\n",
        "\n",
        "    def is_safe(board, row, col):\n",
        "        # Check this row on left side\n",
        "        for i in range(col):\n",
        "            if board[row][i] == 1:\n",
        "                return False\n",
        "\n",
        "        # Check upper diagonal on left side\n",
        "        for i, j in zip(range(row, -1, -1), range(col, -1, -1)):\n",
        "            if board[i][j] == 1:\n",
        "                return False\n",
        "\n",
        "        # Check lower diagonal on left side\n",
        "        for i, j in zip(range(row, n, 1), range(col, -1, -1)):\n",
        "            if board[i][j] == 1:\n",
        "                return False\n",
        "\n",
        "        return True\n",
        "\n",
        "    def solve_util(board, col):\n",
        "        # Base case: If all queens are placed\n",
        "        if col >= n:\n",
        "            return True\n",
        "\n",
        "        # Consider this column and try placing this queen in all rows one by one\n",
        "        for i in range(n):\n",
        "            if is_safe(board, i, col):\n",
        "                board[i][col] = 1  # Place queen\n",
        "\n",
        "                # Recur to place the rest of the queens\n",
        "                if solve_util(board, col + 1):\n",
        "                    return True\n",
        "\n",
        "                # If placing queen at board[i][col] doesn't lead to a solution,\n",
        "                # then remove queen (backtrack)\n",
        "                board[i][col] = 0\n",
        "\n",
        "        # If queen cannot be placed in any row in this column\n",
        "        return False\n",
        "\n",
        "    # Initialize chessboard\n",
        "    board = [[0 for _ in range(n)] for _ in range(n)]\n",
        "\n",
        "    if not solve_util(board, 0):\n",
        "        print(\"Solution does not exist\")\n",
        "        return None\n",
        "\n",
        "    # Print the solution\n",
        "    for row in board:\n",
        "        print(\" \".join([\"Q\" if cell == 1 else \".\" for cell in row]))\n",
        "    return board\n",
        "\n",
        "# Solve the 8-queens problem\n",
        "solve_n_queens(8)"
      ],
      "execution_count": 1,
      "outputs": [
        {
          "output_type": "stream",
          "name": "stdout",
          "text": [
            "Q . . . . . . .\n",
            ". . . . . . Q .\n",
            ". . . . Q . . .\n",
            ". . . . . . . Q\n",
            ". Q . . . . . .\n",
            ". . . Q . . . .\n",
            ". . . . . Q . .\n",
            ". . Q . . . . .\n"
          ]
        },
        {
          "output_type": "execute_result",
          "data": {
            "text/plain": [
              "[[1, 0, 0, 0, 0, 0, 0, 0],\n",
              " [0, 0, 0, 0, 0, 0, 1, 0],\n",
              " [0, 0, 0, 0, 1, 0, 0, 0],\n",
              " [0, 0, 0, 0, 0, 0, 0, 1],\n",
              " [0, 1, 0, 0, 0, 0, 0, 0],\n",
              " [0, 0, 0, 1, 0, 0, 0, 0],\n",
              " [0, 0, 0, 0, 0, 1, 0, 0],\n",
              " [0, 0, 1, 0, 0, 0, 0, 0]]"
            ]
          },
          "metadata": {},
          "execution_count": 1
        }
      ]
    }
  ]
}